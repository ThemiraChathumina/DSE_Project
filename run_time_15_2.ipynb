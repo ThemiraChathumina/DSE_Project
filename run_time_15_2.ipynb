{
 "cells": [
  {
   "cell_type": "code",
   "execution_count": 35,
   "id": "initial_id",
   "metadata": {
    "collapsed": true,
    "ExecuteTime": {
     "end_time": "2023-08-22T12:07:08.456892Z",
     "start_time": "2023-08-22T12:07:08.081759900Z"
    }
   },
   "outputs": [],
   "source": [
    "import numpy as np\n",
    "import pandas as pd\n",
    "from sklearn.model_selection import train_test_split\n",
    "from sklearn.metrics import mean_squared_error\n",
    "from tensorflow.keras.models import Sequential\n",
    "from tensorflow.keras.layers import BatchNormalization, ConvLSTM2D, Dropout, Flatten, RepeatVector, Reshape, TimeDistributed, Dense\n",
    "from tensorflow.keras.optimizers import RMSprop\n",
    "from tensorflow.keras.callbacks import EarlyStopping\n"
   ]
  },
  {
   "cell_type": "code",
   "execution_count": 36,
   "outputs": [],
   "source": [
    "segments = 15\n",
    "# Set the time step in minutes\n",
    "time_step = 15\n",
    "# Set the start and end times for the time window\n",
    "\n",
    "start_time = '06:00:00'\n",
    "\n",
    "end_time = '19:00:00'\n"
   ],
   "metadata": {
    "collapsed": false,
    "ExecuteTime": {
     "end_time": "2023-08-22T12:07:08.537777500Z",
     "start_time": "2023-08-22T12:07:08.087743600Z"
    }
   },
   "id": "c28df0e7c69a8d82"
  },
  {
   "cell_type": "code",
   "execution_count": 37,
   "outputs": [],
   "source": [
    "initial = pd.read_csv(\"data/bus_running_times_feature_added_all.csv\")"
   ],
   "metadata": {
    "collapsed": false,
    "ExecuteTime": {
     "end_time": "2023-08-22T12:07:10.267080500Z",
     "start_time": "2023-08-22T12:07:08.099712500Z"
    }
   },
   "id": "235996c8cb8d048"
  },
  {
   "cell_type": "code",
   "execution_count": 38,
   "outputs": [],
   "source": [
    "busses_new = initial[['trip_id','deviceid','direction','segment','date','start_time','end_time','run_time','run_time_in_seconds']]"
   ],
   "metadata": {
    "collapsed": false,
    "ExecuteTime": {
     "end_time": "2023-08-22T12:07:10.297342900Z",
     "start_time": "2023-08-22T12:07:10.268077100Z"
    }
   },
   "id": "3dd06a67b0ab1b32"
  },
  {
   "cell_type": "code",
   "execution_count": 39,
   "outputs": [
    {
     "name": "stderr",
     "output_type": "stream",
     "text": [
      "C:\\Users\\chath\\AppData\\Local\\Temp\\ipykernel_14188\\50537125.py:1: SettingWithCopyWarning: \n",
      "A value is trying to be set on a copy of a slice from a DataFrame\n",
      "\n",
      "See the caveats in the documentation: https://pandas.pydata.org/pandas-docs/stable/user_guide/indexing.html#returning-a-view-versus-a-copy\n",
      "  busses_new.dropna(inplace=True)\n"
     ]
    }
   ],
   "source": [
    "busses_new.dropna(inplace=True)"
   ],
   "metadata": {
    "collapsed": false,
    "ExecuteTime": {
     "end_time": "2023-08-22T12:07:10.375952100Z",
     "start_time": "2023-08-22T12:07:10.290358800Z"
    }
   },
   "id": "94611af231fee5a1"
  },
  {
   "cell_type": "code",
   "execution_count": 40,
   "outputs": [],
   "source": [
    "busses_new = busses_new[busses_new['segment'] <= segments]"
   ],
   "metadata": {
    "collapsed": false,
    "ExecuteTime": {
     "end_time": "2023-08-22T12:07:10.412963200Z",
     "start_time": "2023-08-22T12:07:10.376949Z"
    }
   },
   "id": "3191f943dcdda1a6"
  },
  {
   "cell_type": "code",
   "execution_count": 41,
   "outputs": [],
   "source": [
    "# Convert the 'date' column to a datetime object\n",
    "busses_new['date'] = pd.to_datetime(busses_new['date'])\n",
    "\n",
    "# Create a boolean mask to filter rows with dates on or after 10/1/2022\n",
    "mask = busses_new['date'] >= '2022-10-01'\n",
    "\n",
    "# Create the train and test dataframes\n",
    "busses_train = busses_new[~mask]\n",
    "busses_test = busses_new[mask]"
   ],
   "metadata": {
    "collapsed": false,
    "ExecuteTime": {
     "end_time": "2023-08-22T12:07:10.464138500Z",
     "start_time": "2023-08-22T12:07:10.406980800Z"
    }
   },
   "id": "20ccb8182703bd0c"
  },
  {
   "cell_type": "code",
   "execution_count": 42,
   "outputs": [
    {
     "data": {
      "text/plain": "   trip_id  deviceid  direction  segment       date start_time  end_time  \\\n0      1.0     262.0        1.0      1.0 2021-10-01   06:39:49  06:40:58   \n1      1.0     262.0        1.0      2.0 2021-10-01   06:42:12  06:45:42   \n2      1.0     262.0        1.0      3.0 2021-10-01   06:45:42  06:53:58   \n3      1.0     262.0        1.0      4.0 2021-10-01   06:54:04  06:57:19   \n4      1.0     262.0        1.0      5.0 2021-10-01   06:57:19  06:58:56   \n\n          run_time  run_time_in_seconds  \n0  0 days 00:01:09                 69.0  \n1  0 days 00:03:30                210.0  \n2  0 days 00:08:16                496.0  \n3  0 days 00:03:15                195.0  \n4  0 days 00:01:37                 97.0  ",
      "text/html": "<div>\n<style scoped>\n    .dataframe tbody tr th:only-of-type {\n        vertical-align: middle;\n    }\n\n    .dataframe tbody tr th {\n        vertical-align: top;\n    }\n\n    .dataframe thead th {\n        text-align: right;\n    }\n</style>\n<table border=\"1\" class=\"dataframe\">\n  <thead>\n    <tr style=\"text-align: right;\">\n      <th></th>\n      <th>trip_id</th>\n      <th>deviceid</th>\n      <th>direction</th>\n      <th>segment</th>\n      <th>date</th>\n      <th>start_time</th>\n      <th>end_time</th>\n      <th>run_time</th>\n      <th>run_time_in_seconds</th>\n    </tr>\n  </thead>\n  <tbody>\n    <tr>\n      <th>0</th>\n      <td>1.0</td>\n      <td>262.0</td>\n      <td>1.0</td>\n      <td>1.0</td>\n      <td>2021-10-01</td>\n      <td>06:39:49</td>\n      <td>06:40:58</td>\n      <td>0 days 00:01:09</td>\n      <td>69.0</td>\n    </tr>\n    <tr>\n      <th>1</th>\n      <td>1.0</td>\n      <td>262.0</td>\n      <td>1.0</td>\n      <td>2.0</td>\n      <td>2021-10-01</td>\n      <td>06:42:12</td>\n      <td>06:45:42</td>\n      <td>0 days 00:03:30</td>\n      <td>210.0</td>\n    </tr>\n    <tr>\n      <th>2</th>\n      <td>1.0</td>\n      <td>262.0</td>\n      <td>1.0</td>\n      <td>3.0</td>\n      <td>2021-10-01</td>\n      <td>06:45:42</td>\n      <td>06:53:58</td>\n      <td>0 days 00:08:16</td>\n      <td>496.0</td>\n    </tr>\n    <tr>\n      <th>3</th>\n      <td>1.0</td>\n      <td>262.0</td>\n      <td>1.0</td>\n      <td>4.0</td>\n      <td>2021-10-01</td>\n      <td>06:54:04</td>\n      <td>06:57:19</td>\n      <td>0 days 00:03:15</td>\n      <td>195.0</td>\n    </tr>\n    <tr>\n      <th>4</th>\n      <td>1.0</td>\n      <td>262.0</td>\n      <td>1.0</td>\n      <td>5.0</td>\n      <td>2021-10-01</td>\n      <td>06:57:19</td>\n      <td>06:58:56</td>\n      <td>0 days 00:01:37</td>\n      <td>97.0</td>\n    </tr>\n  </tbody>\n</table>\n</div>"
     },
     "execution_count": 42,
     "metadata": {},
     "output_type": "execute_result"
    }
   ],
   "source": [
    "busses_train.head()"
   ],
   "metadata": {
    "collapsed": false,
    "ExecuteTime": {
     "end_time": "2023-08-22T12:07:10.487116300Z",
     "start_time": "2023-08-22T12:07:10.446613100Z"
    }
   },
   "id": "bd38d57842f9d85"
  },
  {
   "cell_type": "code",
   "execution_count": 43,
   "outputs": [],
   "source": [
    "def getAvgRuntimeWithSegment(dataframe,time_step,num_segments):\n",
    "    \n",
    "    dataframe = dataframe.copy()\n",
    "\n",
    "    # Convert the 'date' and 'start_time' columns to datetime objects\n",
    "    dataframe['start_time'] = pd.to_datetime(busses_train['start_time'])\n",
    "    # Set the start and end times for the time window\n",
    "    start_time = pd.to_datetime('06:00:00').time()\n",
    "    end_time = pd.to_datetime('19:00:00').time()\n",
    "\n",
    "    # Create a list to store the data for the new dataframe\n",
    "    data = []\n",
    "    \n",
    "    # Iterate over the unique dates in the 'date' column\n",
    "    for date in dataframe['date'].unique():\n",
    "        # Filter the rows for the current date\n",
    "        df_date = dataframe[dataframe['date'] == date]\n",
    "        df_date.loc[:, 'start_time'] = df_date['start_time'].dt.time  # Use .loc to modify the original DataFrame\n",
    "    \n",
    "        # Create a time range for the current date with the specified time step\n",
    "        time_range = pd.date_range(date, date + pd.Timedelta(days=1), freq=f'{time_step}T')\n",
    "        \n",
    "        # Iterate over the time range\n",
    "        for start, end in zip(time_range[:-1], time_range[1:]):\n",
    "            # Check if the start time is within the specified time window\n",
    "            if start.time() >= start_time and start.time() < end_time:\n",
    "                # Filter the rows for the current time window\n",
    "                mask = (df_date['start_time'] >= start.time()) & (df_date['start_time'] < end.time())\n",
    "                df_time_window = df_date[mask]\n",
    "                # Calculate the average run time for each segment in the current time window\n",
    "                avg_run_time = df_time_window.groupby('segment')['run_time_in_seconds'].mean().reset_index()\n",
    "    \n",
    "                # Append the data to the data list\n",
    "                for row in avg_run_time.itertuples():\n",
    "                    data.append((date, start.time(), row.segment, row.run_time_in_seconds))\n",
    "    \n",
    "    \n",
    "    # Create a new dataframe from the data list\n",
    "    df_avg_run_time = pd.DataFrame(data, columns=['date', 'start_time', 'segment', 'avg_run_time'])\n",
    "    return df_avg_run_time"
   ],
   "metadata": {
    "collapsed": false,
    "ExecuteTime": {
     "end_time": "2023-08-22T12:07:10.489111300Z",
     "start_time": "2023-08-22T12:07:10.479443300Z"
    }
   },
   "id": "2bcc0c4f85b78dde"
  },
  {
   "cell_type": "code",
   "execution_count": 44,
   "outputs": [
    {
     "name": "stderr",
     "output_type": "stream",
     "text": [
      "C:\\Users\\chath\\AppData\\Local\\Temp\\ipykernel_14188\\3838683845.py:6: UserWarning: Could not infer format, so each element will be parsed individually, falling back to `dateutil`. To ensure parsing is consistent and as-expected, please specify a format.\n",
      "  dataframe['start_time'] = pd.to_datetime(busses_train['start_time'])\n"
     ]
    }
   ],
   "source": [
    "df_avg_run_time = getAvgRuntimeWithSegment(busses_train,time_step,segments)"
   ],
   "metadata": {
    "collapsed": false,
    "ExecuteTime": {
     "end_time": "2023-08-22T12:07:43.095456200Z",
     "start_time": "2023-08-22T12:07:10.489111300Z"
    }
   },
   "id": "a23c2319faf4c5a7"
  },
  {
   "cell_type": "code",
   "execution_count": 45,
   "outputs": [
    {
     "data": {
      "text/plain": "         date start_time  segment  avg_run_time\n0  2021-10-01   06:30:00      1.0          69.0\n1  2021-10-01   06:30:00      2.0         210.0\n2  2021-10-01   06:45:00      3.0         496.0\n3  2021-10-01   06:45:00      4.0         195.0\n4  2021-10-01   06:45:00      5.0          97.0\n5  2021-10-01   07:00:00      6.0         210.0\n6  2021-10-01   07:00:00      7.0          45.0\n7  2021-10-01   07:00:00      8.0          99.0\n8  2021-10-01   07:00:00      9.0          34.0\n9  2021-10-01   07:00:00     10.0         149.0\n10 2021-10-01   07:00:00     11.0         150.0\n11 2021-10-01   07:15:00     12.0         161.0\n12 2021-10-01   07:15:00     13.0         139.0\n13 2021-10-01   07:15:00     14.0         102.0\n14 2021-10-01   07:15:00     15.0         234.0\n15 2021-10-01   08:30:00      1.0          74.0\n16 2021-10-01   08:30:00      2.0         225.0\n17 2021-10-01   08:45:00      3.0         436.0\n18 2021-10-01   08:45:00      4.0         180.0\n19 2021-10-01   08:45:00      5.0         126.0\n20 2021-10-01   09:00:00      1.0         123.0\n21 2021-10-01   09:00:00      6.0         237.0\n22 2021-10-01   09:00:00      7.0          45.0\n23 2021-10-01   09:00:00      8.0          84.0\n24 2021-10-01   09:00:00      9.0          16.0\n25 2021-10-01   09:00:00     10.0         124.0\n26 2021-10-01   09:00:00     11.0         257.0\n27 2021-10-01   09:15:00      2.0         221.0\n28 2021-10-01   09:15:00      3.0         366.0\n29 2021-10-01   09:15:00      4.0         133.0\n30 2021-10-01   09:15:00      5.0         105.0\n31 2021-10-01   09:15:00     12.0         255.0\n32 2021-10-01   09:15:00     13.0         153.0\n33 2021-10-01   09:15:00     14.0         118.0\n34 2021-10-01   09:15:00     15.0         305.0\n35 2021-10-01   09:30:00      6.0         108.0\n36 2021-10-01   09:30:00      7.0          45.0\n37 2021-10-01   09:30:00     10.0         212.0\n38 2021-10-01   09:45:00     11.0         185.0\n39 2021-10-01   10:15:00      1.0          88.0\n40 2021-10-01   10:15:00      2.0         196.0\n41 2021-10-01   10:15:00      3.0         467.0\n42 2021-10-01   10:30:00      4.0         168.0\n43 2021-10-01   10:30:00      5.0         152.0\n44 2021-10-01   10:30:00      6.0         182.0\n45 2021-10-01   10:45:00      7.0          60.0\n46 2021-10-01   10:45:00      8.0          75.0\n47 2021-10-01   10:45:00      9.0          36.0\n48 2021-10-01   10:45:00     10.0         180.0\n49 2021-10-01   10:45:00     11.0         150.0",
      "text/html": "<div>\n<style scoped>\n    .dataframe tbody tr th:only-of-type {\n        vertical-align: middle;\n    }\n\n    .dataframe tbody tr th {\n        vertical-align: top;\n    }\n\n    .dataframe thead th {\n        text-align: right;\n    }\n</style>\n<table border=\"1\" class=\"dataframe\">\n  <thead>\n    <tr style=\"text-align: right;\">\n      <th></th>\n      <th>date</th>\n      <th>start_time</th>\n      <th>segment</th>\n      <th>avg_run_time</th>\n    </tr>\n  </thead>\n  <tbody>\n    <tr>\n      <th>0</th>\n      <td>2021-10-01</td>\n      <td>06:30:00</td>\n      <td>1.0</td>\n      <td>69.0</td>\n    </tr>\n    <tr>\n      <th>1</th>\n      <td>2021-10-01</td>\n      <td>06:30:00</td>\n      <td>2.0</td>\n      <td>210.0</td>\n    </tr>\n    <tr>\n      <th>2</th>\n      <td>2021-10-01</td>\n      <td>06:45:00</td>\n      <td>3.0</td>\n      <td>496.0</td>\n    </tr>\n    <tr>\n      <th>3</th>\n      <td>2021-10-01</td>\n      <td>06:45:00</td>\n      <td>4.0</td>\n      <td>195.0</td>\n    </tr>\n    <tr>\n      <th>4</th>\n      <td>2021-10-01</td>\n      <td>06:45:00</td>\n      <td>5.0</td>\n      <td>97.0</td>\n    </tr>\n    <tr>\n      <th>5</th>\n      <td>2021-10-01</td>\n      <td>07:00:00</td>\n      <td>6.0</td>\n      <td>210.0</td>\n    </tr>\n    <tr>\n      <th>6</th>\n      <td>2021-10-01</td>\n      <td>07:00:00</td>\n      <td>7.0</td>\n      <td>45.0</td>\n    </tr>\n    <tr>\n      <th>7</th>\n      <td>2021-10-01</td>\n      <td>07:00:00</td>\n      <td>8.0</td>\n      <td>99.0</td>\n    </tr>\n    <tr>\n      <th>8</th>\n      <td>2021-10-01</td>\n      <td>07:00:00</td>\n      <td>9.0</td>\n      <td>34.0</td>\n    </tr>\n    <tr>\n      <th>9</th>\n      <td>2021-10-01</td>\n      <td>07:00:00</td>\n      <td>10.0</td>\n      <td>149.0</td>\n    </tr>\n    <tr>\n      <th>10</th>\n      <td>2021-10-01</td>\n      <td>07:00:00</td>\n      <td>11.0</td>\n      <td>150.0</td>\n    </tr>\n    <tr>\n      <th>11</th>\n      <td>2021-10-01</td>\n      <td>07:15:00</td>\n      <td>12.0</td>\n      <td>161.0</td>\n    </tr>\n    <tr>\n      <th>12</th>\n      <td>2021-10-01</td>\n      <td>07:15:00</td>\n      <td>13.0</td>\n      <td>139.0</td>\n    </tr>\n    <tr>\n      <th>13</th>\n      <td>2021-10-01</td>\n      <td>07:15:00</td>\n      <td>14.0</td>\n      <td>102.0</td>\n    </tr>\n    <tr>\n      <th>14</th>\n      <td>2021-10-01</td>\n      <td>07:15:00</td>\n      <td>15.0</td>\n      <td>234.0</td>\n    </tr>\n    <tr>\n      <th>15</th>\n      <td>2021-10-01</td>\n      <td>08:30:00</td>\n      <td>1.0</td>\n      <td>74.0</td>\n    </tr>\n    <tr>\n      <th>16</th>\n      <td>2021-10-01</td>\n      <td>08:30:00</td>\n      <td>2.0</td>\n      <td>225.0</td>\n    </tr>\n    <tr>\n      <th>17</th>\n      <td>2021-10-01</td>\n      <td>08:45:00</td>\n      <td>3.0</td>\n      <td>436.0</td>\n    </tr>\n    <tr>\n      <th>18</th>\n      <td>2021-10-01</td>\n      <td>08:45:00</td>\n      <td>4.0</td>\n      <td>180.0</td>\n    </tr>\n    <tr>\n      <th>19</th>\n      <td>2021-10-01</td>\n      <td>08:45:00</td>\n      <td>5.0</td>\n      <td>126.0</td>\n    </tr>\n    <tr>\n      <th>20</th>\n      <td>2021-10-01</td>\n      <td>09:00:00</td>\n      <td>1.0</td>\n      <td>123.0</td>\n    </tr>\n    <tr>\n      <th>21</th>\n      <td>2021-10-01</td>\n      <td>09:00:00</td>\n      <td>6.0</td>\n      <td>237.0</td>\n    </tr>\n    <tr>\n      <th>22</th>\n      <td>2021-10-01</td>\n      <td>09:00:00</td>\n      <td>7.0</td>\n      <td>45.0</td>\n    </tr>\n    <tr>\n      <th>23</th>\n      <td>2021-10-01</td>\n      <td>09:00:00</td>\n      <td>8.0</td>\n      <td>84.0</td>\n    </tr>\n    <tr>\n      <th>24</th>\n      <td>2021-10-01</td>\n      <td>09:00:00</td>\n      <td>9.0</td>\n      <td>16.0</td>\n    </tr>\n    <tr>\n      <th>25</th>\n      <td>2021-10-01</td>\n      <td>09:00:00</td>\n      <td>10.0</td>\n      <td>124.0</td>\n    </tr>\n    <tr>\n      <th>26</th>\n      <td>2021-10-01</td>\n      <td>09:00:00</td>\n      <td>11.0</td>\n      <td>257.0</td>\n    </tr>\n    <tr>\n      <th>27</th>\n      <td>2021-10-01</td>\n      <td>09:15:00</td>\n      <td>2.0</td>\n      <td>221.0</td>\n    </tr>\n    <tr>\n      <th>28</th>\n      <td>2021-10-01</td>\n      <td>09:15:00</td>\n      <td>3.0</td>\n      <td>366.0</td>\n    </tr>\n    <tr>\n      <th>29</th>\n      <td>2021-10-01</td>\n      <td>09:15:00</td>\n      <td>4.0</td>\n      <td>133.0</td>\n    </tr>\n    <tr>\n      <th>30</th>\n      <td>2021-10-01</td>\n      <td>09:15:00</td>\n      <td>5.0</td>\n      <td>105.0</td>\n    </tr>\n    <tr>\n      <th>31</th>\n      <td>2021-10-01</td>\n      <td>09:15:00</td>\n      <td>12.0</td>\n      <td>255.0</td>\n    </tr>\n    <tr>\n      <th>32</th>\n      <td>2021-10-01</td>\n      <td>09:15:00</td>\n      <td>13.0</td>\n      <td>153.0</td>\n    </tr>\n    <tr>\n      <th>33</th>\n      <td>2021-10-01</td>\n      <td>09:15:00</td>\n      <td>14.0</td>\n      <td>118.0</td>\n    </tr>\n    <tr>\n      <th>34</th>\n      <td>2021-10-01</td>\n      <td>09:15:00</td>\n      <td>15.0</td>\n      <td>305.0</td>\n    </tr>\n    <tr>\n      <th>35</th>\n      <td>2021-10-01</td>\n      <td>09:30:00</td>\n      <td>6.0</td>\n      <td>108.0</td>\n    </tr>\n    <tr>\n      <th>36</th>\n      <td>2021-10-01</td>\n      <td>09:30:00</td>\n      <td>7.0</td>\n      <td>45.0</td>\n    </tr>\n    <tr>\n      <th>37</th>\n      <td>2021-10-01</td>\n      <td>09:30:00</td>\n      <td>10.0</td>\n      <td>212.0</td>\n    </tr>\n    <tr>\n      <th>38</th>\n      <td>2021-10-01</td>\n      <td>09:45:00</td>\n      <td>11.0</td>\n      <td>185.0</td>\n    </tr>\n    <tr>\n      <th>39</th>\n      <td>2021-10-01</td>\n      <td>10:15:00</td>\n      <td>1.0</td>\n      <td>88.0</td>\n    </tr>\n    <tr>\n      <th>40</th>\n      <td>2021-10-01</td>\n      <td>10:15:00</td>\n      <td>2.0</td>\n      <td>196.0</td>\n    </tr>\n    <tr>\n      <th>41</th>\n      <td>2021-10-01</td>\n      <td>10:15:00</td>\n      <td>3.0</td>\n      <td>467.0</td>\n    </tr>\n    <tr>\n      <th>42</th>\n      <td>2021-10-01</td>\n      <td>10:30:00</td>\n      <td>4.0</td>\n      <td>168.0</td>\n    </tr>\n    <tr>\n      <th>43</th>\n      <td>2021-10-01</td>\n      <td>10:30:00</td>\n      <td>5.0</td>\n      <td>152.0</td>\n    </tr>\n    <tr>\n      <th>44</th>\n      <td>2021-10-01</td>\n      <td>10:30:00</td>\n      <td>6.0</td>\n      <td>182.0</td>\n    </tr>\n    <tr>\n      <th>45</th>\n      <td>2021-10-01</td>\n      <td>10:45:00</td>\n      <td>7.0</td>\n      <td>60.0</td>\n    </tr>\n    <tr>\n      <th>46</th>\n      <td>2021-10-01</td>\n      <td>10:45:00</td>\n      <td>8.0</td>\n      <td>75.0</td>\n    </tr>\n    <tr>\n      <th>47</th>\n      <td>2021-10-01</td>\n      <td>10:45:00</td>\n      <td>9.0</td>\n      <td>36.0</td>\n    </tr>\n    <tr>\n      <th>48</th>\n      <td>2021-10-01</td>\n      <td>10:45:00</td>\n      <td>10.0</td>\n      <td>180.0</td>\n    </tr>\n    <tr>\n      <th>49</th>\n      <td>2021-10-01</td>\n      <td>10:45:00</td>\n      <td>11.0</td>\n      <td>150.0</td>\n    </tr>\n  </tbody>\n</table>\n</div>"
     },
     "execution_count": 45,
     "metadata": {},
     "output_type": "execute_result"
    }
   ],
   "source": [
    "df_avg_run_time.head(50)"
   ],
   "metadata": {
    "collapsed": false,
    "ExecuteTime": {
     "end_time": "2023-08-22T12:07:43.124890800Z",
     "start_time": "2023-08-22T12:07:43.099447100Z"
    }
   },
   "id": "3cc39e997efe3005"
  },
  {
   "cell_type": "code",
   "execution_count": 46,
   "outputs": [],
   "source": [
    "# To handle outliers in the avg_run_time column of your DataFrame using the absolute deviation around the median method, you can follow these steps:\n",
    "# \n",
    "#     Calculate the median of the avg_run_time column.\n",
    "#     Calculate the absolute deviations of each value from the median.\n",
    "#     Calculate the median absolute deviation (MAD) using the absolute deviations.\n",
    "#     Set a threshold (for example, a multiple of MAD) to identify outliers.\n",
    "#     Replace the outlier values with a suitable value (e.g., the median).\n",
    "\n",
    "def handleOutliers(df):\n",
    "    # Calculate the median of avg_run_time\n",
    "    median_avg_run_time = df['avg_run_time'].median()\n",
    "    \n",
    "    # Calculate the absolute deviations\n",
    "    df['abs_deviation'] = np.abs(df['avg_run_time'] - median_avg_run_time)\n",
    "    \n",
    "    # Calculate the median absolute deviation (MAD)\n",
    "    mad = df['abs_deviation'].median()\n",
    "    \n",
    "    # Set a threshold (for example, 3 times MAD) to identify outliers\n",
    "    threshold = 3 * mad\n",
    "    \n",
    "    # Replace outliers with the median value\n",
    "    df.loc[df['abs_deviation'] > threshold, 'avg_run_time'] = median_avg_run_time\n",
    "    \n",
    "    # Drop the temporary column\n",
    "    df = df.drop(columns=['abs_deviation'])\n",
    "    \n",
    "    return df"
   ],
   "metadata": {
    "collapsed": false,
    "ExecuteTime": {
     "end_time": "2023-08-22T12:07:43.163737600Z",
     "start_time": "2023-08-22T12:07:43.124890800Z"
    }
   },
   "id": "2346d403c1cdfda8"
  },
  {
   "cell_type": "code",
   "execution_count": 47,
   "outputs": [],
   "source": [
    "df = handleOutliers(df_avg_run_time)"
   ],
   "metadata": {
    "collapsed": false,
    "ExecuteTime": {
     "end_time": "2023-08-22T12:07:43.164734900Z",
     "start_time": "2023-08-22T12:07:43.134081400Z"
    }
   },
   "id": "684fea8f8115c815"
  },
  {
   "cell_type": "code",
   "execution_count": 48,
   "outputs": [
    {
     "data": {
      "text/plain": "         date start_time  segment  avg_run_time\n0  2021-10-01   06:30:00      1.0          69.0\n1  2021-10-01   06:30:00      2.0         210.0\n2  2021-10-01   06:45:00      3.0         158.0\n3  2021-10-01   06:45:00      4.0         195.0\n4  2021-10-01   06:45:00      5.0          97.0\n5  2021-10-01   07:00:00      6.0         210.0\n6  2021-10-01   07:00:00      7.0          45.0\n7  2021-10-01   07:00:00      8.0          99.0\n8  2021-10-01   07:00:00      9.0          34.0\n9  2021-10-01   07:00:00     10.0         149.0\n10 2021-10-01   07:00:00     11.0         150.0\n11 2021-10-01   07:15:00     12.0         161.0\n12 2021-10-01   07:15:00     13.0         139.0\n13 2021-10-01   07:15:00     14.0         102.0\n14 2021-10-01   07:15:00     15.0         234.0\n15 2021-10-01   08:30:00      1.0          74.0\n16 2021-10-01   08:30:00      2.0         225.0\n17 2021-10-01   08:45:00      3.0         158.0\n18 2021-10-01   08:45:00      4.0         180.0\n19 2021-10-01   08:45:00      5.0         126.0\n20 2021-10-01   09:00:00      1.0         123.0\n21 2021-10-01   09:00:00      6.0         237.0\n22 2021-10-01   09:00:00      7.0          45.0\n23 2021-10-01   09:00:00      8.0          84.0\n24 2021-10-01   09:00:00      9.0          16.0\n25 2021-10-01   09:00:00     10.0         124.0\n26 2021-10-01   09:00:00     11.0         257.0\n27 2021-10-01   09:15:00      2.0         221.0\n28 2021-10-01   09:15:00      3.0         158.0\n29 2021-10-01   09:15:00      4.0         133.0\n30 2021-10-01   09:15:00      5.0         105.0\n31 2021-10-01   09:15:00     12.0         255.0\n32 2021-10-01   09:15:00     13.0         153.0\n33 2021-10-01   09:15:00     14.0         118.0\n34 2021-10-01   09:15:00     15.0         305.0\n35 2021-10-01   09:30:00      6.0         108.0\n36 2021-10-01   09:30:00      7.0          45.0\n37 2021-10-01   09:30:00     10.0         212.0\n38 2021-10-01   09:45:00     11.0         185.0\n39 2021-10-01   10:15:00      1.0          88.0\n40 2021-10-01   10:15:00      2.0         196.0\n41 2021-10-01   10:15:00      3.0         158.0\n42 2021-10-01   10:30:00      4.0         168.0\n43 2021-10-01   10:30:00      5.0         152.0\n44 2021-10-01   10:30:00      6.0         182.0\n45 2021-10-01   10:45:00      7.0          60.0\n46 2021-10-01   10:45:00      8.0          75.0\n47 2021-10-01   10:45:00      9.0          36.0\n48 2021-10-01   10:45:00     10.0         180.0\n49 2021-10-01   10:45:00     11.0         150.0",
      "text/html": "<div>\n<style scoped>\n    .dataframe tbody tr th:only-of-type {\n        vertical-align: middle;\n    }\n\n    .dataframe tbody tr th {\n        vertical-align: top;\n    }\n\n    .dataframe thead th {\n        text-align: right;\n    }\n</style>\n<table border=\"1\" class=\"dataframe\">\n  <thead>\n    <tr style=\"text-align: right;\">\n      <th></th>\n      <th>date</th>\n      <th>start_time</th>\n      <th>segment</th>\n      <th>avg_run_time</th>\n    </tr>\n  </thead>\n  <tbody>\n    <tr>\n      <th>0</th>\n      <td>2021-10-01</td>\n      <td>06:30:00</td>\n      <td>1.0</td>\n      <td>69.0</td>\n    </tr>\n    <tr>\n      <th>1</th>\n      <td>2021-10-01</td>\n      <td>06:30:00</td>\n      <td>2.0</td>\n      <td>210.0</td>\n    </tr>\n    <tr>\n      <th>2</th>\n      <td>2021-10-01</td>\n      <td>06:45:00</td>\n      <td>3.0</td>\n      <td>158.0</td>\n    </tr>\n    <tr>\n      <th>3</th>\n      <td>2021-10-01</td>\n      <td>06:45:00</td>\n      <td>4.0</td>\n      <td>195.0</td>\n    </tr>\n    <tr>\n      <th>4</th>\n      <td>2021-10-01</td>\n      <td>06:45:00</td>\n      <td>5.0</td>\n      <td>97.0</td>\n    </tr>\n    <tr>\n      <th>5</th>\n      <td>2021-10-01</td>\n      <td>07:00:00</td>\n      <td>6.0</td>\n      <td>210.0</td>\n    </tr>\n    <tr>\n      <th>6</th>\n      <td>2021-10-01</td>\n      <td>07:00:00</td>\n      <td>7.0</td>\n      <td>45.0</td>\n    </tr>\n    <tr>\n      <th>7</th>\n      <td>2021-10-01</td>\n      <td>07:00:00</td>\n      <td>8.0</td>\n      <td>99.0</td>\n    </tr>\n    <tr>\n      <th>8</th>\n      <td>2021-10-01</td>\n      <td>07:00:00</td>\n      <td>9.0</td>\n      <td>34.0</td>\n    </tr>\n    <tr>\n      <th>9</th>\n      <td>2021-10-01</td>\n      <td>07:00:00</td>\n      <td>10.0</td>\n      <td>149.0</td>\n    </tr>\n    <tr>\n      <th>10</th>\n      <td>2021-10-01</td>\n      <td>07:00:00</td>\n      <td>11.0</td>\n      <td>150.0</td>\n    </tr>\n    <tr>\n      <th>11</th>\n      <td>2021-10-01</td>\n      <td>07:15:00</td>\n      <td>12.0</td>\n      <td>161.0</td>\n    </tr>\n    <tr>\n      <th>12</th>\n      <td>2021-10-01</td>\n      <td>07:15:00</td>\n      <td>13.0</td>\n      <td>139.0</td>\n    </tr>\n    <tr>\n      <th>13</th>\n      <td>2021-10-01</td>\n      <td>07:15:00</td>\n      <td>14.0</td>\n      <td>102.0</td>\n    </tr>\n    <tr>\n      <th>14</th>\n      <td>2021-10-01</td>\n      <td>07:15:00</td>\n      <td>15.0</td>\n      <td>234.0</td>\n    </tr>\n    <tr>\n      <th>15</th>\n      <td>2021-10-01</td>\n      <td>08:30:00</td>\n      <td>1.0</td>\n      <td>74.0</td>\n    </tr>\n    <tr>\n      <th>16</th>\n      <td>2021-10-01</td>\n      <td>08:30:00</td>\n      <td>2.0</td>\n      <td>225.0</td>\n    </tr>\n    <tr>\n      <th>17</th>\n      <td>2021-10-01</td>\n      <td>08:45:00</td>\n      <td>3.0</td>\n      <td>158.0</td>\n    </tr>\n    <tr>\n      <th>18</th>\n      <td>2021-10-01</td>\n      <td>08:45:00</td>\n      <td>4.0</td>\n      <td>180.0</td>\n    </tr>\n    <tr>\n      <th>19</th>\n      <td>2021-10-01</td>\n      <td>08:45:00</td>\n      <td>5.0</td>\n      <td>126.0</td>\n    </tr>\n    <tr>\n      <th>20</th>\n      <td>2021-10-01</td>\n      <td>09:00:00</td>\n      <td>1.0</td>\n      <td>123.0</td>\n    </tr>\n    <tr>\n      <th>21</th>\n      <td>2021-10-01</td>\n      <td>09:00:00</td>\n      <td>6.0</td>\n      <td>237.0</td>\n    </tr>\n    <tr>\n      <th>22</th>\n      <td>2021-10-01</td>\n      <td>09:00:00</td>\n      <td>7.0</td>\n      <td>45.0</td>\n    </tr>\n    <tr>\n      <th>23</th>\n      <td>2021-10-01</td>\n      <td>09:00:00</td>\n      <td>8.0</td>\n      <td>84.0</td>\n    </tr>\n    <tr>\n      <th>24</th>\n      <td>2021-10-01</td>\n      <td>09:00:00</td>\n      <td>9.0</td>\n      <td>16.0</td>\n    </tr>\n    <tr>\n      <th>25</th>\n      <td>2021-10-01</td>\n      <td>09:00:00</td>\n      <td>10.0</td>\n      <td>124.0</td>\n    </tr>\n    <tr>\n      <th>26</th>\n      <td>2021-10-01</td>\n      <td>09:00:00</td>\n      <td>11.0</td>\n      <td>257.0</td>\n    </tr>\n    <tr>\n      <th>27</th>\n      <td>2021-10-01</td>\n      <td>09:15:00</td>\n      <td>2.0</td>\n      <td>221.0</td>\n    </tr>\n    <tr>\n      <th>28</th>\n      <td>2021-10-01</td>\n      <td>09:15:00</td>\n      <td>3.0</td>\n      <td>158.0</td>\n    </tr>\n    <tr>\n      <th>29</th>\n      <td>2021-10-01</td>\n      <td>09:15:00</td>\n      <td>4.0</td>\n      <td>133.0</td>\n    </tr>\n    <tr>\n      <th>30</th>\n      <td>2021-10-01</td>\n      <td>09:15:00</td>\n      <td>5.0</td>\n      <td>105.0</td>\n    </tr>\n    <tr>\n      <th>31</th>\n      <td>2021-10-01</td>\n      <td>09:15:00</td>\n      <td>12.0</td>\n      <td>255.0</td>\n    </tr>\n    <tr>\n      <th>32</th>\n      <td>2021-10-01</td>\n      <td>09:15:00</td>\n      <td>13.0</td>\n      <td>153.0</td>\n    </tr>\n    <tr>\n      <th>33</th>\n      <td>2021-10-01</td>\n      <td>09:15:00</td>\n      <td>14.0</td>\n      <td>118.0</td>\n    </tr>\n    <tr>\n      <th>34</th>\n      <td>2021-10-01</td>\n      <td>09:15:00</td>\n      <td>15.0</td>\n      <td>305.0</td>\n    </tr>\n    <tr>\n      <th>35</th>\n      <td>2021-10-01</td>\n      <td>09:30:00</td>\n      <td>6.0</td>\n      <td>108.0</td>\n    </tr>\n    <tr>\n      <th>36</th>\n      <td>2021-10-01</td>\n      <td>09:30:00</td>\n      <td>7.0</td>\n      <td>45.0</td>\n    </tr>\n    <tr>\n      <th>37</th>\n      <td>2021-10-01</td>\n      <td>09:30:00</td>\n      <td>10.0</td>\n      <td>212.0</td>\n    </tr>\n    <tr>\n      <th>38</th>\n      <td>2021-10-01</td>\n      <td>09:45:00</td>\n      <td>11.0</td>\n      <td>185.0</td>\n    </tr>\n    <tr>\n      <th>39</th>\n      <td>2021-10-01</td>\n      <td>10:15:00</td>\n      <td>1.0</td>\n      <td>88.0</td>\n    </tr>\n    <tr>\n      <th>40</th>\n      <td>2021-10-01</td>\n      <td>10:15:00</td>\n      <td>2.0</td>\n      <td>196.0</td>\n    </tr>\n    <tr>\n      <th>41</th>\n      <td>2021-10-01</td>\n      <td>10:15:00</td>\n      <td>3.0</td>\n      <td>158.0</td>\n    </tr>\n    <tr>\n      <th>42</th>\n      <td>2021-10-01</td>\n      <td>10:30:00</td>\n      <td>4.0</td>\n      <td>168.0</td>\n    </tr>\n    <tr>\n      <th>43</th>\n      <td>2021-10-01</td>\n      <td>10:30:00</td>\n      <td>5.0</td>\n      <td>152.0</td>\n    </tr>\n    <tr>\n      <th>44</th>\n      <td>2021-10-01</td>\n      <td>10:30:00</td>\n      <td>6.0</td>\n      <td>182.0</td>\n    </tr>\n    <tr>\n      <th>45</th>\n      <td>2021-10-01</td>\n      <td>10:45:00</td>\n      <td>7.0</td>\n      <td>60.0</td>\n    </tr>\n    <tr>\n      <th>46</th>\n      <td>2021-10-01</td>\n      <td>10:45:00</td>\n      <td>8.0</td>\n      <td>75.0</td>\n    </tr>\n    <tr>\n      <th>47</th>\n      <td>2021-10-01</td>\n      <td>10:45:00</td>\n      <td>9.0</td>\n      <td>36.0</td>\n    </tr>\n    <tr>\n      <th>48</th>\n      <td>2021-10-01</td>\n      <td>10:45:00</td>\n      <td>10.0</td>\n      <td>180.0</td>\n    </tr>\n    <tr>\n      <th>49</th>\n      <td>2021-10-01</td>\n      <td>10:45:00</td>\n      <td>11.0</td>\n      <td>150.0</td>\n    </tr>\n  </tbody>\n</table>\n</div>"
     },
     "execution_count": 48,
     "metadata": {},
     "output_type": "execute_result"
    }
   ],
   "source": [
    "df.head(50)"
   ],
   "metadata": {
    "collapsed": false,
    "ExecuteTime": {
     "end_time": "2023-08-22T12:07:43.257132900Z",
     "start_time": "2023-08-22T12:07:43.152767400Z"
    }
   },
   "id": "3187e7d7e9d68ecb"
  },
  {
   "cell_type": "code",
   "execution_count": 49,
   "outputs": [],
   "source": [
    "def fillTimeSteps(df_avg_run_time, startTime, endTime, time_step, num_segments):\n",
    "    start_Time = pd.to_datetime(startTime).time()\n",
    "\n",
    "    end_Time = pd.to_datetime(endTime).time()\n",
    "    # Create a new DataFrame to store the missing data\n",
    "    data = []\n",
    "\n",
    "    # Iterate over the unique dates in the 'date' column\n",
    "    for date in df_avg_run_time['date'].unique():\n",
    "        # Filter the rows for the current date\n",
    "        df_date = df_avg_run_time[df_avg_run_time['date'] == date]\n",
    "\n",
    "        # Create a time range for the current date with the specified time step\n",
    "        time_range = pd.date_range(date, date + pd.Timedelta(days=1), freq=f'{time_step}T').time\n",
    "\n",
    "        # Iterate over the time range\n",
    "        for t in time_range:\n",
    "            # Check if the start time is within the specified time window\n",
    "            if start_Time <= t < end_Time:\n",
    "                # Check if the current start time is present in the dataframe\n",
    "                if not (df_date['start_time'] == t).any():\n",
    "                    # Add rows for the missing start time and segments\n",
    "                    for segment in range(1, num_segments + 1):\n",
    "                        data.append((date, t, segment, 0))\n",
    "\n",
    "    # Create a new DataFrame from the data list\n",
    "    df_missing = pd.DataFrame(data, columns=['date', 'start_time', 'segment', 'avg_run_time'])\n",
    "\n",
    "    # Concatenate the new DataFrame with the original DataFrame\n",
    "    df_avg_run_time = pd.concat([df_avg_run_time, df_missing], ignore_index=True)\n",
    "    # Sort the rows of the dataframe by the 'date', 'start_time', and 'segment' columns\n",
    "    df_avg_run_time = df_avg_run_time.sort_values(by=['date', 'start_time', 'segment'])\n",
    "    return df_avg_run_time"
   ],
   "metadata": {
    "collapsed": false,
    "ExecuteTime": {
     "end_time": "2023-08-22T12:07:43.323954200Z",
     "start_time": "2023-08-22T12:07:43.184833Z"
    }
   },
   "id": "ab507b22d8f20a85"
  },
  {
   "cell_type": "code",
   "execution_count": 50,
   "outputs": [],
   "source": [
    "def normalizeSTD(df, num_segments, start_time, end_time, time_step,historical):\n",
    "    # Filter out zero values when calculating mean for each segment, start time, and weekday\n",
    "    mean_data = historical.groupby(['segment', 'start_time', df['date'].dt.weekday])['avg_run_time'].mean()\n",
    "    # Filter out zero values when calculating standard deviation for each segment\n",
    "    std_data = historical.groupby('segment')['avg_run_time'].std()\n",
    "    \n",
    "    # Create a MultiIndex with all combinations of date, start_time, and segment\n",
    "    idx = pd.MultiIndex.from_product([df['date'].unique(), df['start_time'].unique(), range(1, num_segments + 1)], names=['date', 'start_time', 'segment'])\n",
    "    \n",
    "    # Reindex the dataframe using the new MultiIndex\n",
    "    df = df.set_index(['date', 'start_time', 'segment']).reindex(idx, fill_value=0).reset_index()\n",
    "    \n",
    "    df = fillTimeSteps(df, start_time, end_time, time_step, num_segments)\n",
    "    \n",
    "    # Normalize values and create a new DataFrame\n",
    "    normalized_data = []\n",
    "    for index, row in df.iterrows():\n",
    "        segment, start_time, weekday = row['segment'], row['start_time'], row['date'].weekday()\n",
    "        mean_value = mean_data.get((segment, start_time, weekday), 0)  # Default to 0 if not found\n",
    "        std_value = std_data.get(segment, 1)  # Default to 1 if not found to avoid division by zero\n",
    "        \n",
    "        # If the value is non-zero, calculate normalized value; otherwise, keep it as zero\n",
    "        normalized_value = (row['avg_run_time'] - mean_value) / std_value if row['avg_run_time'] != 0 else 0\n",
    "        normalized_data.append((row['date'], row['start_time'], segment, normalized_value))\n",
    "    \n",
    "    normalized_columns = ['date', 'start_time', 'segment', 'normalized_avg_run_time']\n",
    "    df_normalized = pd.DataFrame(normalized_data, columns=normalized_columns)\n",
    "    return df_normalized\n",
    "\n"
   ],
   "metadata": {
    "collapsed": false,
    "ExecuteTime": {
     "end_time": "2023-08-22T12:07:43.323954200Z",
     "start_time": "2023-08-22T12:07:43.200770500Z"
    }
   },
   "id": "b921e776520702e1"
  },
  {
   "cell_type": "code",
   "execution_count": 51,
   "outputs": [],
   "source": [
    "df_normalized = normalizeSTD(df, segments, start_time, end_time, time_step,df)"
   ],
   "metadata": {
    "collapsed": false,
    "ExecuteTime": {
     "end_time": "2023-08-22T12:08:16.108882600Z",
     "start_time": "2023-08-22T12:07:43.212411Z"
    }
   },
   "id": "64d9f3983c67e876"
  },
  {
   "cell_type": "code",
   "execution_count": 52,
   "outputs": [
    {
     "data": {
      "text/plain": "          date start_time  segment  normalized_avg_run_time\n0   2021-10-01   06:00:00        1                      0.0\n1   2021-10-01   06:00:00        2                      0.0\n2   2021-10-01   06:00:00        3                      0.0\n3   2021-10-01   06:00:00        4                      0.0\n4   2021-10-01   06:00:00        5                      0.0\n..         ...        ...      ...                      ...\n145 2021-10-01   08:15:00       11                      0.0\n146 2021-10-01   08:15:00       12                      0.0\n147 2021-10-01   08:15:00       13                      0.0\n148 2021-10-01   08:15:00       14                      0.0\n149 2021-10-01   08:15:00       15                      0.0\n\n[150 rows x 4 columns]",
      "text/html": "<div>\n<style scoped>\n    .dataframe tbody tr th:only-of-type {\n        vertical-align: middle;\n    }\n\n    .dataframe tbody tr th {\n        vertical-align: top;\n    }\n\n    .dataframe thead th {\n        text-align: right;\n    }\n</style>\n<table border=\"1\" class=\"dataframe\">\n  <thead>\n    <tr style=\"text-align: right;\">\n      <th></th>\n      <th>date</th>\n      <th>start_time</th>\n      <th>segment</th>\n      <th>normalized_avg_run_time</th>\n    </tr>\n  </thead>\n  <tbody>\n    <tr>\n      <th>0</th>\n      <td>2021-10-01</td>\n      <td>06:00:00</td>\n      <td>1</td>\n      <td>0.0</td>\n    </tr>\n    <tr>\n      <th>1</th>\n      <td>2021-10-01</td>\n      <td>06:00:00</td>\n      <td>2</td>\n      <td>0.0</td>\n    </tr>\n    <tr>\n      <th>2</th>\n      <td>2021-10-01</td>\n      <td>06:00:00</td>\n      <td>3</td>\n      <td>0.0</td>\n    </tr>\n    <tr>\n      <th>3</th>\n      <td>2021-10-01</td>\n      <td>06:00:00</td>\n      <td>4</td>\n      <td>0.0</td>\n    </tr>\n    <tr>\n      <th>4</th>\n      <td>2021-10-01</td>\n      <td>06:00:00</td>\n      <td>5</td>\n      <td>0.0</td>\n    </tr>\n    <tr>\n      <th>...</th>\n      <td>...</td>\n      <td>...</td>\n      <td>...</td>\n      <td>...</td>\n    </tr>\n    <tr>\n      <th>145</th>\n      <td>2021-10-01</td>\n      <td>08:15:00</td>\n      <td>11</td>\n      <td>0.0</td>\n    </tr>\n    <tr>\n      <th>146</th>\n      <td>2021-10-01</td>\n      <td>08:15:00</td>\n      <td>12</td>\n      <td>0.0</td>\n    </tr>\n    <tr>\n      <th>147</th>\n      <td>2021-10-01</td>\n      <td>08:15:00</td>\n      <td>13</td>\n      <td>0.0</td>\n    </tr>\n    <tr>\n      <th>148</th>\n      <td>2021-10-01</td>\n      <td>08:15:00</td>\n      <td>14</td>\n      <td>0.0</td>\n    </tr>\n    <tr>\n      <th>149</th>\n      <td>2021-10-01</td>\n      <td>08:15:00</td>\n      <td>15</td>\n      <td>0.0</td>\n    </tr>\n  </tbody>\n</table>\n<p>150 rows × 4 columns</p>\n</div>"
     },
     "execution_count": 52,
     "metadata": {},
     "output_type": "execute_result"
    }
   ],
   "source": [
    "df_normalized.head(150)"
   ],
   "metadata": {
    "collapsed": false,
    "ExecuteTime": {
     "end_time": "2023-08-22T12:08:16.132331400Z",
     "start_time": "2023-08-22T12:08:16.099906300Z"
    }
   },
   "id": "a839f0d9cb682b27"
  },
  {
   "cell_type": "code",
   "execution_count": 53,
   "outputs": [
    {
     "data": {
      "text/plain": "187200"
     },
     "execution_count": 53,
     "metadata": {},
     "output_type": "execute_result"
    }
   ],
   "source": [
    "len(df_normalized)"
   ],
   "metadata": {
    "collapsed": false,
    "ExecuteTime": {
     "end_time": "2023-08-22T12:08:16.136323100Z",
     "start_time": "2023-08-22T12:08:16.126794200Z"
    }
   },
   "id": "a59457dced811c9b"
  },
  {
   "cell_type": "code",
   "execution_count": 54,
   "outputs": [],
   "source": [
    "def prepareModelInput(df_avg_run_time, w, s, pred_steps):\n",
    "    num_samples = len(df_avg_run_time) - (pred_steps - 1)\n",
    "    # Initialize an empty array to hold the input data\n",
    "    input_data_x = np.empty((num_samples, w, s, 1))\n",
    "    input_data_y = np.empty((num_samples, pred_steps, s, 1))\n",
    "    \n",
    "    for i in range(len(df_avg_run_time)-((w+pred_steps)*s)):\n",
    "        # Use array slicing to extract the required data\n",
    "        sample_data_x = df_avg_run_time.iloc[i:i+w*s, 3].values\n",
    "        sample_data_y = df_avg_run_time.iloc[i+(w*s):i+(w*s)+pred_steps*s, 3].values\n",
    "        reshaped_data_x = sample_data_x.reshape(w, s, 1)\n",
    "        reshaped_data_y = sample_data_y.reshape(pred_steps, s, 1)\n",
    "        input_data_x[i] = reshaped_data_x\n",
    "        input_data_y[i] = reshaped_data_y\n",
    "    return input_data_x, input_data_y"
   ],
   "metadata": {
    "collapsed": false,
    "ExecuteTime": {
     "end_time": "2023-08-22T12:08:16.209072200Z",
     "start_time": "2023-08-22T12:08:16.142303Z"
    }
   },
   "id": "1c00a4cd270944de"
  },
  {
   "cell_type": "code",
   "execution_count": 55,
   "outputs": [],
   "source": [
    "def splitData(input_data_x, input_data_y, test_size):\n",
    "    # Split the data into training and test sets\n",
    "    x_train, x_test, y_train, y_test = train_test_split(input_data_x, input_data_y, test_size=test_size, shuffle=False)\n",
    "    return x_train, x_test, y_train, y_test"
   ],
   "metadata": {
    "collapsed": false,
    "ExecuteTime": {
     "end_time": "2023-08-22T12:08:16.244955100Z",
     "start_time": "2023-08-22T12:08:16.154675900Z"
    }
   },
   "id": "8c043ff29f30f4c0"
  },
  {
   "cell_type": "code",
   "execution_count": 56,
   "outputs": [],
   "source": [
    "def build_model(input_timesteps, output_timesteps, num_links):\n",
    "    model = Sequential()\n",
    "    model.add(BatchNormalization(name='batch_norm_0', input_shape=(input_timesteps, num_links, 1, 1)))\n",
    "    model.add(ConvLSTM2D(name='conv_lstm_1', filters=64, kernel_size=(10, 1), padding='same', return_sequences=True))\n",
    "    model.add(Dropout(0.21, name='dropout_1'))\n",
    "    model.add(BatchNormalization(name='batch_norm_1'))\n",
    "    model.add(ConvLSTM2D(name='conv_lstm_2', filters=64, kernel_size=(5, 1), padding='same', return_sequences=False))\n",
    "    model.add(Dropout(0.20, name='dropout_2'))\n",
    "    model.add(BatchNormalization(name='batch_norm_2'))\n",
    "    model.add(Flatten())\n",
    "    model.add(RepeatVector(output_timesteps))\n",
    "    model.add(Reshape((output_timesteps, num_links, 1, 64)))\n",
    "    model.add(ConvLSTM2D(name='conv_lstm_3', filters=64, kernel_size=(10, 1), padding='same', return_sequences=True))\n",
    "    model.add(Dropout(0.20, name='dropout_3'))\n",
    "    model.add(BatchNormalization(name='batch_norm_3'))\n",
    "    model.add(ConvLSTM2D(name='conv_lstm_4', filters=64, kernel_size=(5, 1), padding='same', return_sequences=True))\n",
    "    model.add(TimeDistributed(Dense(units=1, name='dense_1', activation='relu')))\n",
    "    \n",
    "    optimizer = RMSprop()\n",
    "    model.compile(loss=\"mse\", optimizer=optimizer)\n",
    "    \n",
    "    return model"
   ],
   "metadata": {
    "collapsed": false,
    "ExecuteTime": {
     "end_time": "2023-08-22T12:08:16.245951500Z",
     "start_time": "2023-08-22T12:08:16.161588100Z"
    }
   },
   "id": "72e25073a7e89200"
  },
  {
   "cell_type": "code",
   "execution_count": 57,
   "outputs": [],
   "source": [
    "def trainModel(model, input_data_x, input_data_y, batch_size, epochs, validation_split):\n",
    "    early_stopping = EarlyStopping(monitor='val_loss', patience=5, verbose=1, mode='auto', restore_best_weights=True)\n",
    "    history = model.fit(input_data_x, input_data_y, batch_size=batch_size, epochs=epochs, validation_split=validation_split, callbacks=[early_stopping], verbose=1)\n",
    "    return history"
   ],
   "metadata": {
    "collapsed": false,
    "ExecuteTime": {
     "end_time": "2023-08-22T12:08:16.245951500Z",
     "start_time": "2023-08-22T12:08:16.177019500Z"
    }
   },
   "id": "f80e6d707e6d8788"
  },
  {
   "cell_type": "code",
   "execution_count": 58,
   "outputs": [],
   "source": [
    "def evaluateModel(model, x_test, y_test):\n",
    "    # Make predictions using the test data\n",
    "    y_pred = model.predict(x_test)\n",
    "    \n",
    "    # Calculate the root mean squared error (RMSE)\n",
    "    rmse = np.sqrt(mean_squared_error(y_test, y_pred))\n",
    "    return rmse"
   ],
   "metadata": {
    "collapsed": false,
    "ExecuteTime": {
     "end_time": "2023-08-22T12:08:16.245951500Z",
     "start_time": "2023-08-22T12:08:16.188621200Z"
    }
   },
   "id": "f4a553d1bd873d37"
  }
 ],
 "metadata": {
  "kernelspec": {
   "display_name": "Python 3",
   "language": "python",
   "name": "python3"
  },
  "language_info": {
   "codemirror_mode": {
    "name": "ipython",
    "version": 2
   },
   "file_extension": ".py",
   "mimetype": "text/x-python",
   "name": "python",
   "nbconvert_exporter": "python",
   "pygments_lexer": "ipython2",
   "version": "2.7.6"
  }
 },
 "nbformat": 4,
 "nbformat_minor": 5
}
