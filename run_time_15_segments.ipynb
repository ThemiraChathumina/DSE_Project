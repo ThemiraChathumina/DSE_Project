{
 "cells": [
  {
   "cell_type": "code",
   "execution_count": 276,
   "id": "initial_id",
   "metadata": {
    "collapsed": true,
    "ExecuteTime": {
     "end_time": "2023-08-22T06:22:49.326123200Z",
     "start_time": "2023-08-22T06:22:49.147934700Z"
    }
   },
   "outputs": [],
   "source": [
    "import numpy as np\n",
    "import pandas as pd\n",
    "from sklearn.model_selection import train_test_split\n",
    "from sklearn.metrics import mean_squared_error\n",
    "from tensorflow.keras.models import Sequential\n",
    "from tensorflow.keras.layers import BatchNormalization, ConvLSTM2D, Dropout, Flatten, RepeatVector, Reshape, TimeDistributed, Dense\n",
    "from tensorflow.keras.optimizers import RMSprop\n",
    "from tensorflow.keras.callbacks import EarlyStopping\n"
   ]
  },
  {
   "cell_type": "code",
   "execution_count": 277,
   "outputs": [],
   "source": [
    "segments = 15\n",
    "# Set the time step in minutes\n",
    "time_step = 15\n",
    "# Set the start and end times for the time window\n",
    "\n",
    "start_time = '06:00:00'\n",
    "\n",
    "end_time = '19:00:00'\n"
   ],
   "metadata": {
    "collapsed": false,
    "ExecuteTime": {
     "end_time": "2023-08-22T06:22:49.440818700Z",
     "start_time": "2023-08-22T06:22:49.157142600Z"
    }
   },
   "id": "28978b76a6e6969c"
  },
  {
   "cell_type": "code",
   "execution_count": 278,
   "outputs": [],
   "source": [
    "initial = pd.read_csv(\"data/bus_running_times_feature_added_all.csv\")"
   ],
   "metadata": {
    "collapsed": false,
    "ExecuteTime": {
     "end_time": "2023-08-22T06:22:50.746902600Z",
     "start_time": "2023-08-22T06:22:49.175527100Z"
    }
   },
   "id": "32d31bb9795bc826"
  },
  {
   "cell_type": "code",
   "execution_count": 279,
   "outputs": [
    {
     "data": {
      "text/plain": "   trip_id  deviceid  direction  segment        date start_time  end_time  \\\n0      1.0     262.0        1.0      1.0  2021-10-01   06:39:49  06:40:58   \n1      1.0     262.0        1.0      2.0  2021-10-01   06:42:12  06:45:42   \n2      1.0     262.0        1.0      3.0  2021-10-01   06:45:42  06:53:58   \n3      1.0     262.0        1.0      4.0  2021-10-01   06:54:04  06:57:19   \n4      1.0     262.0        1.0      5.0  2021-10-01   06:57:19  06:58:56   \n\n          run_time  run_time_in_seconds  length  ...  rt(n-2)  rt(n-3)  \\\n0  0 days 00:01:09                 69.0  0.6261  ...     96.0     96.0   \n1  0 days 00:03:30                210.0  1.2808  ...    247.0    247.0   \n2  0 days 00:08:16                496.0  2.1125  ...     69.0    506.0   \n3  0 days 00:03:15                195.0  1.5513  ...    210.0     69.0   \n4  0 days 00:01:37                 97.0  0.8450  ...    496.0    210.0   \n\n   hour_of_day  day  month  temp  precip  windspeed        conditions  dt(n-1)  \n0          6.0  1.0   10.0  20.0     0.0        6.1  Partially cloudy      0.0  \n1          6.0  1.0   10.0  20.0     0.0        6.1  Partially cloudy     74.0  \n2          6.0  1.0   10.0  20.0     0.0        6.1  Partially cloudy      0.0  \n3          6.0  1.0   10.0  20.0     0.0        6.1  Partially cloudy      6.0  \n4          6.0  1.0   10.0  20.0     0.0        6.1  Partially cloudy      0.0  \n\n[5 rows x 32 columns]",
      "text/html": "<div>\n<style scoped>\n    .dataframe tbody tr th:only-of-type {\n        vertical-align: middle;\n    }\n\n    .dataframe tbody tr th {\n        vertical-align: top;\n    }\n\n    .dataframe thead th {\n        text-align: right;\n    }\n</style>\n<table border=\"1\" class=\"dataframe\">\n  <thead>\n    <tr style=\"text-align: right;\">\n      <th></th>\n      <th>trip_id</th>\n      <th>deviceid</th>\n      <th>direction</th>\n      <th>segment</th>\n      <th>date</th>\n      <th>start_time</th>\n      <th>end_time</th>\n      <th>run_time</th>\n      <th>run_time_in_seconds</th>\n      <th>length</th>\n      <th>...</th>\n      <th>rt(n-2)</th>\n      <th>rt(n-3)</th>\n      <th>hour_of_day</th>\n      <th>day</th>\n      <th>month</th>\n      <th>temp</th>\n      <th>precip</th>\n      <th>windspeed</th>\n      <th>conditions</th>\n      <th>dt(n-1)</th>\n    </tr>\n  </thead>\n  <tbody>\n    <tr>\n      <th>0</th>\n      <td>1.0</td>\n      <td>262.0</td>\n      <td>1.0</td>\n      <td>1.0</td>\n      <td>2021-10-01</td>\n      <td>06:39:49</td>\n      <td>06:40:58</td>\n      <td>0 days 00:01:09</td>\n      <td>69.0</td>\n      <td>0.6261</td>\n      <td>...</td>\n      <td>96.0</td>\n      <td>96.0</td>\n      <td>6.0</td>\n      <td>1.0</td>\n      <td>10.0</td>\n      <td>20.0</td>\n      <td>0.0</td>\n      <td>6.1</td>\n      <td>Partially cloudy</td>\n      <td>0.0</td>\n    </tr>\n    <tr>\n      <th>1</th>\n      <td>1.0</td>\n      <td>262.0</td>\n      <td>1.0</td>\n      <td>2.0</td>\n      <td>2021-10-01</td>\n      <td>06:42:12</td>\n      <td>06:45:42</td>\n      <td>0 days 00:03:30</td>\n      <td>210.0</td>\n      <td>1.2808</td>\n      <td>...</td>\n      <td>247.0</td>\n      <td>247.0</td>\n      <td>6.0</td>\n      <td>1.0</td>\n      <td>10.0</td>\n      <td>20.0</td>\n      <td>0.0</td>\n      <td>6.1</td>\n      <td>Partially cloudy</td>\n      <td>74.0</td>\n    </tr>\n    <tr>\n      <th>2</th>\n      <td>1.0</td>\n      <td>262.0</td>\n      <td>1.0</td>\n      <td>3.0</td>\n      <td>2021-10-01</td>\n      <td>06:45:42</td>\n      <td>06:53:58</td>\n      <td>0 days 00:08:16</td>\n      <td>496.0</td>\n      <td>2.1125</td>\n      <td>...</td>\n      <td>69.0</td>\n      <td>506.0</td>\n      <td>6.0</td>\n      <td>1.0</td>\n      <td>10.0</td>\n      <td>20.0</td>\n      <td>0.0</td>\n      <td>6.1</td>\n      <td>Partially cloudy</td>\n      <td>0.0</td>\n    </tr>\n    <tr>\n      <th>3</th>\n      <td>1.0</td>\n      <td>262.0</td>\n      <td>1.0</td>\n      <td>4.0</td>\n      <td>2021-10-01</td>\n      <td>06:54:04</td>\n      <td>06:57:19</td>\n      <td>0 days 00:03:15</td>\n      <td>195.0</td>\n      <td>1.5513</td>\n      <td>...</td>\n      <td>210.0</td>\n      <td>69.0</td>\n      <td>6.0</td>\n      <td>1.0</td>\n      <td>10.0</td>\n      <td>20.0</td>\n      <td>0.0</td>\n      <td>6.1</td>\n      <td>Partially cloudy</td>\n      <td>6.0</td>\n    </tr>\n    <tr>\n      <th>4</th>\n      <td>1.0</td>\n      <td>262.0</td>\n      <td>1.0</td>\n      <td>5.0</td>\n      <td>2021-10-01</td>\n      <td>06:57:19</td>\n      <td>06:58:56</td>\n      <td>0 days 00:01:37</td>\n      <td>97.0</td>\n      <td>0.8450</td>\n      <td>...</td>\n      <td>496.0</td>\n      <td>210.0</td>\n      <td>6.0</td>\n      <td>1.0</td>\n      <td>10.0</td>\n      <td>20.0</td>\n      <td>0.0</td>\n      <td>6.1</td>\n      <td>Partially cloudy</td>\n      <td>0.0</td>\n    </tr>\n  </tbody>\n</table>\n<p>5 rows × 32 columns</p>\n</div>"
     },
     "execution_count": 279,
     "metadata": {},
     "output_type": "execute_result"
    }
   ],
   "source": [
    "initial.head()"
   ],
   "metadata": {
    "collapsed": false,
    "ExecuteTime": {
     "end_time": "2023-08-22T06:22:50.786840900Z",
     "start_time": "2023-08-22T06:22:50.748897900Z"
    }
   },
   "id": "4d7263671328ffda"
  },
  {
   "cell_type": "code",
   "execution_count": 280,
   "outputs": [
    {
     "data": {
      "text/plain": "   trip_id  deviceid  direction  segment        date start_time  end_time  \\\n0      1.0     262.0        1.0      1.0  2021-10-01   06:39:49  06:40:58   \n1      1.0     262.0        1.0      2.0  2021-10-01   06:42:12  06:45:42   \n2      1.0     262.0        1.0      3.0  2021-10-01   06:45:42  06:53:58   \n3      1.0     262.0        1.0      4.0  2021-10-01   06:54:04  06:57:19   \n4      1.0     262.0        1.0      5.0  2021-10-01   06:57:19  06:58:56   \n\n          run_time  run_time_in_seconds  \n0  0 days 00:01:09                 69.0  \n1  0 days 00:03:30                210.0  \n2  0 days 00:08:16                496.0  \n3  0 days 00:03:15                195.0  \n4  0 days 00:01:37                 97.0  ",
      "text/html": "<div>\n<style scoped>\n    .dataframe tbody tr th:only-of-type {\n        vertical-align: middle;\n    }\n\n    .dataframe tbody tr th {\n        vertical-align: top;\n    }\n\n    .dataframe thead th {\n        text-align: right;\n    }\n</style>\n<table border=\"1\" class=\"dataframe\">\n  <thead>\n    <tr style=\"text-align: right;\">\n      <th></th>\n      <th>trip_id</th>\n      <th>deviceid</th>\n      <th>direction</th>\n      <th>segment</th>\n      <th>date</th>\n      <th>start_time</th>\n      <th>end_time</th>\n      <th>run_time</th>\n      <th>run_time_in_seconds</th>\n    </tr>\n  </thead>\n  <tbody>\n    <tr>\n      <th>0</th>\n      <td>1.0</td>\n      <td>262.0</td>\n      <td>1.0</td>\n      <td>1.0</td>\n      <td>2021-10-01</td>\n      <td>06:39:49</td>\n      <td>06:40:58</td>\n      <td>0 days 00:01:09</td>\n      <td>69.0</td>\n    </tr>\n    <tr>\n      <th>1</th>\n      <td>1.0</td>\n      <td>262.0</td>\n      <td>1.0</td>\n      <td>2.0</td>\n      <td>2021-10-01</td>\n      <td>06:42:12</td>\n      <td>06:45:42</td>\n      <td>0 days 00:03:30</td>\n      <td>210.0</td>\n    </tr>\n    <tr>\n      <th>2</th>\n      <td>1.0</td>\n      <td>262.0</td>\n      <td>1.0</td>\n      <td>3.0</td>\n      <td>2021-10-01</td>\n      <td>06:45:42</td>\n      <td>06:53:58</td>\n      <td>0 days 00:08:16</td>\n      <td>496.0</td>\n    </tr>\n    <tr>\n      <th>3</th>\n      <td>1.0</td>\n      <td>262.0</td>\n      <td>1.0</td>\n      <td>4.0</td>\n      <td>2021-10-01</td>\n      <td>06:54:04</td>\n      <td>06:57:19</td>\n      <td>0 days 00:03:15</td>\n      <td>195.0</td>\n    </tr>\n    <tr>\n      <th>4</th>\n      <td>1.0</td>\n      <td>262.0</td>\n      <td>1.0</td>\n      <td>5.0</td>\n      <td>2021-10-01</td>\n      <td>06:57:19</td>\n      <td>06:58:56</td>\n      <td>0 days 00:01:37</td>\n      <td>97.0</td>\n    </tr>\n  </tbody>\n</table>\n</div>"
     },
     "execution_count": 280,
     "metadata": {},
     "output_type": "execute_result"
    }
   ],
   "source": [
    "busses_new = initial[['trip_id','deviceid','direction','segment','date','start_time','end_time','run_time','run_time_in_seconds']]\n",
    "busses_new.head()"
   ],
   "metadata": {
    "collapsed": false,
    "ExecuteTime": {
     "end_time": "2023-08-22T06:22:50.923653Z",
     "start_time": "2023-08-22T06:22:50.785844800Z"
    }
   },
   "id": "9ffb5137f3d4450f"
  },
  {
   "cell_type": "code",
   "execution_count": 281,
   "outputs": [
    {
     "name": "stderr",
     "output_type": "stream",
     "text": [
      "C:\\Users\\chath\\AppData\\Local\\Temp\\ipykernel_72\\50537125.py:1: SettingWithCopyWarning: \n",
      "A value is trying to be set on a copy of a slice from a DataFrame\n",
      "\n",
      "See the caveats in the documentation: https://pandas.pydata.org/pandas-docs/stable/user_guide/indexing.html#returning-a-view-versus-a-copy\n",
      "  busses_new.dropna(inplace=True)\n"
     ]
    }
   ],
   "source": [
    "busses_new.dropna(inplace=True)"
   ],
   "metadata": {
    "collapsed": false,
    "ExecuteTime": {
     "end_time": "2023-08-22T06:22:50.962990100Z",
     "start_time": "2023-08-22T06:22:50.828098300Z"
    }
   },
   "id": "90e50db4b12ebf4b"
  },
  {
   "cell_type": "code",
   "execution_count": 282,
   "outputs": [],
   "source": [
    "busses_new = busses_new[busses_new['segment'] <= segments]"
   ],
   "metadata": {
    "collapsed": false,
    "ExecuteTime": {
     "end_time": "2023-08-22T06:22:50.972962900Z",
     "start_time": "2023-08-22T06:22:50.903300500Z"
    }
   },
   "id": "2c79318314ff2cab"
  },
  {
   "cell_type": "code",
   "execution_count": 283,
   "outputs": [
    {
     "data": {
      "text/plain": "103843"
     },
     "execution_count": 283,
     "metadata": {},
     "output_type": "execute_result"
    }
   ],
   "source": [
    "len(busses_new)"
   ],
   "metadata": {
    "collapsed": false,
    "ExecuteTime": {
     "end_time": "2023-08-22T06:22:50.973963200Z",
     "start_time": "2023-08-22T06:22:50.934630Z"
    }
   },
   "id": "16472116af799e91"
  },
  {
   "cell_type": "code",
   "execution_count": 284,
   "outputs": [
    {
     "name": "stdout",
     "output_type": "stream",
     "text": [
      "Number of rows with NaN values: 0\n"
     ]
    }
   ],
   "source": [
    "num_rows_with_nan = busses_new.isna().any(axis=1).sum()\n",
    "print(f'Number of rows with NaN values: {num_rows_with_nan}')"
   ],
   "metadata": {
    "collapsed": false,
    "ExecuteTime": {
     "end_time": "2023-08-22T06:22:51.111054300Z",
     "start_time": "2023-08-22T06:22:50.945040600Z"
    }
   },
   "id": "a5f4149d9af3e1c9"
  },
  {
   "cell_type": "code",
   "execution_count": 285,
   "outputs": [],
   "source": [
    "# Convert the 'date' column to a datetime object\n",
    "busses_new['date'] = pd.to_datetime(busses_new['date'])\n",
    "\n",
    "# Create a boolean mask to filter rows with dates on or after 10/1/2022\n",
    "mask = busses_new['date'] >= '2022-10-01'\n",
    "\n",
    "# Create the train and test dataframes\n",
    "busses_train = busses_new[~mask]\n",
    "busses_test = busses_new[mask]"
   ],
   "metadata": {
    "collapsed": false,
    "ExecuteTime": {
     "end_time": "2023-08-22T06:22:51.135985700Z",
     "start_time": "2023-08-22T06:22:50.988321500Z"
    }
   },
   "id": "d0725e83c2a9fee3"
  },
  {
   "cell_type": "code",
   "execution_count": 286,
   "outputs": [],
   "source": [
    "def getAvgRuntimeWithSegment(dataframe,time_step,num_segments):\n",
    "    \n",
    "    dataframe = dataframe.copy()\n",
    "\n",
    "    # Convert the 'date' and 'start_time' columns to datetime objects\n",
    "    dataframe['start_time'] = pd.to_datetime(busses_train['start_time'])\n",
    "    # Set the start and end times for the time window\n",
    "    start_time = pd.to_datetime('06:00:00').time()\n",
    "    end_time = pd.to_datetime('19:00:00').time()\n",
    "\n",
    "    # Create a list to store the data for the new dataframe\n",
    "    data = []\n",
    "    \n",
    "    # Iterate over the unique dates in the 'date' column\n",
    "    for date in dataframe['date'].unique():\n",
    "        # Filter the rows for the current date\n",
    "        df_date = dataframe[dataframe['date'] == date]\n",
    "        df_date.loc[:, 'start_time'] = df_date['start_time'].dt.time  # Use .loc to modify the original DataFrame\n",
    "    \n",
    "        # Create a time range for the current date with the specified time step\n",
    "        time_range = pd.date_range(date, date + pd.Timedelta(days=1), freq=f'{time_step}T')\n",
    "        \n",
    "        # Iterate over the time range\n",
    "        for start, end in zip(time_range[:-1], time_range[1:]):\n",
    "            # Check if the start time is within the specified time window\n",
    "            if start.time() >= start_time and start.time() < end_time:\n",
    "                # Filter the rows for the current time window\n",
    "                mask = (df_date['start_time'] >= start.time()) & (df_date['start_time'] < end.time())\n",
    "                df_time_window = df_date[mask]\n",
    "                # Calculate the average run time for each segment in the current time window\n",
    "                avg_run_time = df_time_window.groupby('segment')['run_time_in_seconds'].mean().reset_index()\n",
    "    \n",
    "                # Append the data to the data list\n",
    "                for row in avg_run_time.itertuples():\n",
    "                    data.append((date, start.time(), row.segment, row.run_time_in_seconds))\n",
    "    \n",
    "    \n",
    "    # Create a new dataframe from the data list\n",
    "    df_avg_run_time = pd.DataFrame(data, columns=['date', 'start_time', 'segment', 'avg_run_time'])\n",
    "    # Create a MultiIndex with all combinations of date, start_time, and segment\n",
    "    idx = pd.MultiIndex.from_product([df_avg_run_time['date'].unique(), df_avg_run_time['start_time'].unique(), range(1, num_segments + 1)], names=['date', 'start_time', 'segment'])\n",
    "    \n",
    "    # Reindex the dataframe using the new MultiIndex\n",
    "    df_avg_run_time = df_avg_run_time.set_index(['date', 'start_time', 'segment']).reindex(idx, fill_value=0).reset_index()\n",
    "    return df_avg_run_time\n"
   ],
   "metadata": {
    "collapsed": false,
    "ExecuteTime": {
     "end_time": "2023-08-22T06:22:51.138977800Z",
     "start_time": "2023-08-22T06:22:51.036055200Z"
    }
   },
   "id": "61dfeb5bf4cd8586"
  },
  {
   "cell_type": "code",
   "execution_count": 287,
   "outputs": [
    {
     "name": "stderr",
     "output_type": "stream",
     "text": [
      "C:\\Users\\chath\\AppData\\Local\\Temp\\ipykernel_72\\591756120.py:6: UserWarning: Could not infer format, so each element will be parsed individually, falling back to `dateutil`. To ensure parsing is consistent and as-expected, please specify a format.\n",
      "  dataframe['start_time'] = pd.to_datetime(busses_train['start_time'])\n"
     ]
    },
    {
     "data": {
      "text/plain": "        date start_time  segment  avg_run_time\n0 2021-10-01   06:30:00        1          69.0\n1 2021-10-01   06:30:00        2         210.0\n2 2021-10-01   06:30:00        3           0.0\n3 2021-10-01   06:30:00        4           0.0\n4 2021-10-01   06:30:00        5           0.0",
      "text/html": "<div>\n<style scoped>\n    .dataframe tbody tr th:only-of-type {\n        vertical-align: middle;\n    }\n\n    .dataframe tbody tr th {\n        vertical-align: top;\n    }\n\n    .dataframe thead th {\n        text-align: right;\n    }\n</style>\n<table border=\"1\" class=\"dataframe\">\n  <thead>\n    <tr style=\"text-align: right;\">\n      <th></th>\n      <th>date</th>\n      <th>start_time</th>\n      <th>segment</th>\n      <th>avg_run_time</th>\n    </tr>\n  </thead>\n  <tbody>\n    <tr>\n      <th>0</th>\n      <td>2021-10-01</td>\n      <td>06:30:00</td>\n      <td>1</td>\n      <td>69.0</td>\n    </tr>\n    <tr>\n      <th>1</th>\n      <td>2021-10-01</td>\n      <td>06:30:00</td>\n      <td>2</td>\n      <td>210.0</td>\n    </tr>\n    <tr>\n      <th>2</th>\n      <td>2021-10-01</td>\n      <td>06:30:00</td>\n      <td>3</td>\n      <td>0.0</td>\n    </tr>\n    <tr>\n      <th>3</th>\n      <td>2021-10-01</td>\n      <td>06:30:00</td>\n      <td>4</td>\n      <td>0.0</td>\n    </tr>\n    <tr>\n      <th>4</th>\n      <td>2021-10-01</td>\n      <td>06:30:00</td>\n      <td>5</td>\n      <td>0.0</td>\n    </tr>\n  </tbody>\n</table>\n</div>"
     },
     "execution_count": 287,
     "metadata": {},
     "output_type": "execute_result"
    }
   ],
   "source": [
    "df = getAvgRuntimeWithSegment(busses_train,time_step,segments)\n",
    "df.head()"
   ],
   "metadata": {
    "collapsed": false,
    "ExecuteTime": {
     "end_time": "2023-08-22T06:23:19.191661500Z",
     "start_time": "2023-08-22T06:22:51.059190900Z"
    }
   },
   "id": "b0cda34bf6f14104"
  },
  {
   "cell_type": "code",
   "execution_count": 288,
   "outputs": [
    {
     "data": {
      "text/plain": "         date start_time  segment  avg_run_time\n0  2021-10-01   06:30:00        1          69.0\n1  2021-10-01   06:30:00        2         210.0\n2  2021-10-01   06:30:00        3           0.0\n3  2021-10-01   06:30:00        4           0.0\n4  2021-10-01   06:30:00        5           0.0\n5  2021-10-01   06:30:00        6           0.0\n6  2021-10-01   06:30:00        7           0.0\n7  2021-10-01   06:30:00        8           0.0\n8  2021-10-01   06:30:00        9           0.0\n9  2021-10-01   06:30:00       10           0.0\n10 2021-10-01   06:30:00       11           0.0\n11 2021-10-01   06:30:00       12           0.0\n12 2021-10-01   06:30:00       13           0.0\n13 2021-10-01   06:30:00       14           0.0\n14 2021-10-01   06:30:00       15           0.0\n15 2021-10-01   06:45:00        1           0.0\n16 2021-10-01   06:45:00        2           0.0\n17 2021-10-01   06:45:00        3         496.0\n18 2021-10-01   06:45:00        4         195.0\n19 2021-10-01   06:45:00        5          97.0\n20 2021-10-01   06:45:00        6           0.0\n21 2021-10-01   06:45:00        7           0.0\n22 2021-10-01   06:45:00        8           0.0\n23 2021-10-01   06:45:00        9           0.0\n24 2021-10-01   06:45:00       10           0.0\n25 2021-10-01   06:45:00       11           0.0\n26 2021-10-01   06:45:00       12           0.0\n27 2021-10-01   06:45:00       13           0.0\n28 2021-10-01   06:45:00       14           0.0\n29 2021-10-01   06:45:00       15           0.0\n30 2021-10-01   07:00:00        1           0.0\n31 2021-10-01   07:00:00        2           0.0\n32 2021-10-01   07:00:00        3           0.0\n33 2021-10-01   07:00:00        4           0.0\n34 2021-10-01   07:00:00        5           0.0\n35 2021-10-01   07:00:00        6         210.0\n36 2021-10-01   07:00:00        7          45.0\n37 2021-10-01   07:00:00        8          99.0\n38 2021-10-01   07:00:00        9          34.0\n39 2021-10-01   07:00:00       10         149.0\n40 2021-10-01   07:00:00       11         150.0\n41 2021-10-01   07:00:00       12           0.0\n42 2021-10-01   07:00:00       13           0.0\n43 2021-10-01   07:00:00       14           0.0\n44 2021-10-01   07:00:00       15           0.0\n45 2021-10-01   07:15:00        1           0.0\n46 2021-10-01   07:15:00        2           0.0\n47 2021-10-01   07:15:00        3           0.0\n48 2021-10-01   07:15:00        4           0.0\n49 2021-10-01   07:15:00        5           0.0",
      "text/html": "<div>\n<style scoped>\n    .dataframe tbody tr th:only-of-type {\n        vertical-align: middle;\n    }\n\n    .dataframe tbody tr th {\n        vertical-align: top;\n    }\n\n    .dataframe thead th {\n        text-align: right;\n    }\n</style>\n<table border=\"1\" class=\"dataframe\">\n  <thead>\n    <tr style=\"text-align: right;\">\n      <th></th>\n      <th>date</th>\n      <th>start_time</th>\n      <th>segment</th>\n      <th>avg_run_time</th>\n    </tr>\n  </thead>\n  <tbody>\n    <tr>\n      <th>0</th>\n      <td>2021-10-01</td>\n      <td>06:30:00</td>\n      <td>1</td>\n      <td>69.0</td>\n    </tr>\n    <tr>\n      <th>1</th>\n      <td>2021-10-01</td>\n      <td>06:30:00</td>\n      <td>2</td>\n      <td>210.0</td>\n    </tr>\n    <tr>\n      <th>2</th>\n      <td>2021-10-01</td>\n      <td>06:30:00</td>\n      <td>3</td>\n      <td>0.0</td>\n    </tr>\n    <tr>\n      <th>3</th>\n      <td>2021-10-01</td>\n      <td>06:30:00</td>\n      <td>4</td>\n      <td>0.0</td>\n    </tr>\n    <tr>\n      <th>4</th>\n      <td>2021-10-01</td>\n      <td>06:30:00</td>\n      <td>5</td>\n      <td>0.0</td>\n    </tr>\n    <tr>\n      <th>5</th>\n      <td>2021-10-01</td>\n      <td>06:30:00</td>\n      <td>6</td>\n      <td>0.0</td>\n    </tr>\n    <tr>\n      <th>6</th>\n      <td>2021-10-01</td>\n      <td>06:30:00</td>\n      <td>7</td>\n      <td>0.0</td>\n    </tr>\n    <tr>\n      <th>7</th>\n      <td>2021-10-01</td>\n      <td>06:30:00</td>\n      <td>8</td>\n      <td>0.0</td>\n    </tr>\n    <tr>\n      <th>8</th>\n      <td>2021-10-01</td>\n      <td>06:30:00</td>\n      <td>9</td>\n      <td>0.0</td>\n    </tr>\n    <tr>\n      <th>9</th>\n      <td>2021-10-01</td>\n      <td>06:30:00</td>\n      <td>10</td>\n      <td>0.0</td>\n    </tr>\n    <tr>\n      <th>10</th>\n      <td>2021-10-01</td>\n      <td>06:30:00</td>\n      <td>11</td>\n      <td>0.0</td>\n    </tr>\n    <tr>\n      <th>11</th>\n      <td>2021-10-01</td>\n      <td>06:30:00</td>\n      <td>12</td>\n      <td>0.0</td>\n    </tr>\n    <tr>\n      <th>12</th>\n      <td>2021-10-01</td>\n      <td>06:30:00</td>\n      <td>13</td>\n      <td>0.0</td>\n    </tr>\n    <tr>\n      <th>13</th>\n      <td>2021-10-01</td>\n      <td>06:30:00</td>\n      <td>14</td>\n      <td>0.0</td>\n    </tr>\n    <tr>\n      <th>14</th>\n      <td>2021-10-01</td>\n      <td>06:30:00</td>\n      <td>15</td>\n      <td>0.0</td>\n    </tr>\n    <tr>\n      <th>15</th>\n      <td>2021-10-01</td>\n      <td>06:45:00</td>\n      <td>1</td>\n      <td>0.0</td>\n    </tr>\n    <tr>\n      <th>16</th>\n      <td>2021-10-01</td>\n      <td>06:45:00</td>\n      <td>2</td>\n      <td>0.0</td>\n    </tr>\n    <tr>\n      <th>17</th>\n      <td>2021-10-01</td>\n      <td>06:45:00</td>\n      <td>3</td>\n      <td>496.0</td>\n    </tr>\n    <tr>\n      <th>18</th>\n      <td>2021-10-01</td>\n      <td>06:45:00</td>\n      <td>4</td>\n      <td>195.0</td>\n    </tr>\n    <tr>\n      <th>19</th>\n      <td>2021-10-01</td>\n      <td>06:45:00</td>\n      <td>5</td>\n      <td>97.0</td>\n    </tr>\n    <tr>\n      <th>20</th>\n      <td>2021-10-01</td>\n      <td>06:45:00</td>\n      <td>6</td>\n      <td>0.0</td>\n    </tr>\n    <tr>\n      <th>21</th>\n      <td>2021-10-01</td>\n      <td>06:45:00</td>\n      <td>7</td>\n      <td>0.0</td>\n    </tr>\n    <tr>\n      <th>22</th>\n      <td>2021-10-01</td>\n      <td>06:45:00</td>\n      <td>8</td>\n      <td>0.0</td>\n    </tr>\n    <tr>\n      <th>23</th>\n      <td>2021-10-01</td>\n      <td>06:45:00</td>\n      <td>9</td>\n      <td>0.0</td>\n    </tr>\n    <tr>\n      <th>24</th>\n      <td>2021-10-01</td>\n      <td>06:45:00</td>\n      <td>10</td>\n      <td>0.0</td>\n    </tr>\n    <tr>\n      <th>25</th>\n      <td>2021-10-01</td>\n      <td>06:45:00</td>\n      <td>11</td>\n      <td>0.0</td>\n    </tr>\n    <tr>\n      <th>26</th>\n      <td>2021-10-01</td>\n      <td>06:45:00</td>\n      <td>12</td>\n      <td>0.0</td>\n    </tr>\n    <tr>\n      <th>27</th>\n      <td>2021-10-01</td>\n      <td>06:45:00</td>\n      <td>13</td>\n      <td>0.0</td>\n    </tr>\n    <tr>\n      <th>28</th>\n      <td>2021-10-01</td>\n      <td>06:45:00</td>\n      <td>14</td>\n      <td>0.0</td>\n    </tr>\n    <tr>\n      <th>29</th>\n      <td>2021-10-01</td>\n      <td>06:45:00</td>\n      <td>15</td>\n      <td>0.0</td>\n    </tr>\n    <tr>\n      <th>30</th>\n      <td>2021-10-01</td>\n      <td>07:00:00</td>\n      <td>1</td>\n      <td>0.0</td>\n    </tr>\n    <tr>\n      <th>31</th>\n      <td>2021-10-01</td>\n      <td>07:00:00</td>\n      <td>2</td>\n      <td>0.0</td>\n    </tr>\n    <tr>\n      <th>32</th>\n      <td>2021-10-01</td>\n      <td>07:00:00</td>\n      <td>3</td>\n      <td>0.0</td>\n    </tr>\n    <tr>\n      <th>33</th>\n      <td>2021-10-01</td>\n      <td>07:00:00</td>\n      <td>4</td>\n      <td>0.0</td>\n    </tr>\n    <tr>\n      <th>34</th>\n      <td>2021-10-01</td>\n      <td>07:00:00</td>\n      <td>5</td>\n      <td>0.0</td>\n    </tr>\n    <tr>\n      <th>35</th>\n      <td>2021-10-01</td>\n      <td>07:00:00</td>\n      <td>6</td>\n      <td>210.0</td>\n    </tr>\n    <tr>\n      <th>36</th>\n      <td>2021-10-01</td>\n      <td>07:00:00</td>\n      <td>7</td>\n      <td>45.0</td>\n    </tr>\n    <tr>\n      <th>37</th>\n      <td>2021-10-01</td>\n      <td>07:00:00</td>\n      <td>8</td>\n      <td>99.0</td>\n    </tr>\n    <tr>\n      <th>38</th>\n      <td>2021-10-01</td>\n      <td>07:00:00</td>\n      <td>9</td>\n      <td>34.0</td>\n    </tr>\n    <tr>\n      <th>39</th>\n      <td>2021-10-01</td>\n      <td>07:00:00</td>\n      <td>10</td>\n      <td>149.0</td>\n    </tr>\n    <tr>\n      <th>40</th>\n      <td>2021-10-01</td>\n      <td>07:00:00</td>\n      <td>11</td>\n      <td>150.0</td>\n    </tr>\n    <tr>\n      <th>41</th>\n      <td>2021-10-01</td>\n      <td>07:00:00</td>\n      <td>12</td>\n      <td>0.0</td>\n    </tr>\n    <tr>\n      <th>42</th>\n      <td>2021-10-01</td>\n      <td>07:00:00</td>\n      <td>13</td>\n      <td>0.0</td>\n    </tr>\n    <tr>\n      <th>43</th>\n      <td>2021-10-01</td>\n      <td>07:00:00</td>\n      <td>14</td>\n      <td>0.0</td>\n    </tr>\n    <tr>\n      <th>44</th>\n      <td>2021-10-01</td>\n      <td>07:00:00</td>\n      <td>15</td>\n      <td>0.0</td>\n    </tr>\n    <tr>\n      <th>45</th>\n      <td>2021-10-01</td>\n      <td>07:15:00</td>\n      <td>1</td>\n      <td>0.0</td>\n    </tr>\n    <tr>\n      <th>46</th>\n      <td>2021-10-01</td>\n      <td>07:15:00</td>\n      <td>2</td>\n      <td>0.0</td>\n    </tr>\n    <tr>\n      <th>47</th>\n      <td>2021-10-01</td>\n      <td>07:15:00</td>\n      <td>3</td>\n      <td>0.0</td>\n    </tr>\n    <tr>\n      <th>48</th>\n      <td>2021-10-01</td>\n      <td>07:15:00</td>\n      <td>4</td>\n      <td>0.0</td>\n    </tr>\n    <tr>\n      <th>49</th>\n      <td>2021-10-01</td>\n      <td>07:15:00</td>\n      <td>5</td>\n      <td>0.0</td>\n    </tr>\n  </tbody>\n</table>\n</div>"
     },
     "execution_count": 288,
     "metadata": {},
     "output_type": "execute_result"
    }
   ],
   "source": [
    "df.head(50)"
   ],
   "metadata": {
    "collapsed": false,
    "ExecuteTime": {
     "end_time": "2023-08-22T06:23:19.228914100Z",
     "start_time": "2023-08-22T06:23:19.185672400Z"
    }
   },
   "id": "ce092d5444ae51fd"
  },
  {
   "cell_type": "code",
   "execution_count": 289,
   "outputs": [],
   "source": [
    "def fillTimeSteps(df_avg_run_time, startTime, endTime, time_step, num_segments):\n",
    "    start_Time = pd.to_datetime(startTime).time()\n",
    "\n",
    "    end_Time = pd.to_datetime(endTime).time()\n",
    "    # Create a new DataFrame to store the missing data\n",
    "    data = []\n",
    "\n",
    "    # Iterate over the unique dates in the 'date' column\n",
    "    for date in df_avg_run_time['date'].unique():\n",
    "        # Filter the rows for the current date\n",
    "        df_date = df_avg_run_time[df_avg_run_time['date'] == date]\n",
    "\n",
    "        # Create a time range for the current date with the specified time step\n",
    "        time_range = pd.date_range(date, date + pd.Timedelta(days=1), freq=f'{time_step}T').time\n",
    "\n",
    "        # Iterate over the time range\n",
    "        for t in time_range:\n",
    "            # Check if the start time is within the specified time window\n",
    "            if start_Time <= t < end_Time:\n",
    "                # Check if the current start time is present in the dataframe\n",
    "                if not (df_date['start_time'] == t).any():\n",
    "                    # Add rows for the missing start time and segments\n",
    "                    for segment in range(1, num_segments + 1):\n",
    "                        data.append((date, t, segment, 0))\n",
    "\n",
    "    # Create a new DataFrame from the data list\n",
    "    df_missing = pd.DataFrame(data, columns=['date', 'start_time', 'segment', 'avg_run_time'])\n",
    "\n",
    "    # Concatenate the new DataFrame with the original DataFrame\n",
    "    df_avg_run_time = pd.concat([df_avg_run_time, df_missing], ignore_index=True)\n",
    "    # Sort the rows of the dataframe by the 'date', 'start_time', and 'segment' columns\n",
    "    df_avg_run_time = df_avg_run_time.sort_values(by=['date', 'start_time', 'segment'])\n",
    "    return df_avg_run_time"
   ],
   "metadata": {
    "collapsed": false
   },
   "id": "53ee79dbba817f39"
  },
  {
   "cell_type": "code",
   "execution_count": 290,
   "outputs": [],
   "source": [
    "df2 = fillTimeSteps(df,start_time,end_time,time_step,segments)"
   ],
   "metadata": {
    "collapsed": false,
    "ExecuteTime": {
     "end_time": "2023-08-22T06:23:22.915837800Z",
     "start_time": "2023-08-22T06:23:19.227916Z"
    }
   },
   "id": "cbe44acd4b864e26"
  },
  {
   "cell_type": "code",
   "execution_count": 291,
   "outputs": [
    {
     "data": {
      "text/plain": "          date start_time segment  avg_run_time\n765 2021-10-01   06:00:00       1           0.0\n766 2021-10-01   06:00:00       2           0.0\n767 2021-10-01   06:00:00       3           0.0\n768 2021-10-01   06:00:00       4           0.0\n769 2021-10-01   06:00:00       5           0.0\n770 2021-10-01   06:00:00       6           0.0\n771 2021-10-01   06:00:00       7           0.0\n772 2021-10-01   06:00:00       8           0.0\n773 2021-10-01   06:00:00       9           0.0\n774 2021-10-01   06:00:00      10           0.0\n775 2021-10-01   06:00:00      11           0.0\n776 2021-10-01   06:00:00      12           0.0\n777 2021-10-01   06:00:00      13           0.0\n778 2021-10-01   06:00:00      14           0.0\n779 2021-10-01   06:00:00      15           0.0\n750 2021-10-01   06:15:00       1           0.0\n751 2021-10-01   06:15:00       2           0.0\n752 2021-10-01   06:15:00       3           0.0\n753 2021-10-01   06:15:00       4           0.0\n754 2021-10-01   06:15:00       5           0.0\n755 2021-10-01   06:15:00       6           0.0\n756 2021-10-01   06:15:00       7           0.0\n757 2021-10-01   06:15:00       8           0.0\n758 2021-10-01   06:15:00       9           0.0\n759 2021-10-01   06:15:00      10           0.0\n760 2021-10-01   06:15:00      11           0.0\n761 2021-10-01   06:15:00      12           0.0\n762 2021-10-01   06:15:00      13           0.0\n763 2021-10-01   06:15:00      14           0.0\n764 2021-10-01   06:15:00      15           0.0\n0   2021-10-01   06:30:00       1          69.0\n1   2021-10-01   06:30:00       2         210.0\n2   2021-10-01   06:30:00       3           0.0\n3   2021-10-01   06:30:00       4           0.0\n4   2021-10-01   06:30:00       5           0.0\n5   2021-10-01   06:30:00       6           0.0\n6   2021-10-01   06:30:00       7           0.0\n7   2021-10-01   06:30:00       8           0.0\n8   2021-10-01   06:30:00       9           0.0\n9   2021-10-01   06:30:00      10           0.0\n10  2021-10-01   06:30:00      11           0.0\n11  2021-10-01   06:30:00      12           0.0\n12  2021-10-01   06:30:00      13           0.0\n13  2021-10-01   06:30:00      14           0.0\n14  2021-10-01   06:30:00      15           0.0\n15  2021-10-01   06:45:00       1           0.0\n16  2021-10-01   06:45:00       2           0.0\n17  2021-10-01   06:45:00       3         496.0\n18  2021-10-01   06:45:00       4         195.0\n19  2021-10-01   06:45:00       5          97.0",
      "text/html": "<div>\n<style scoped>\n    .dataframe tbody tr th:only-of-type {\n        vertical-align: middle;\n    }\n\n    .dataframe tbody tr th {\n        vertical-align: top;\n    }\n\n    .dataframe thead th {\n        text-align: right;\n    }\n</style>\n<table border=\"1\" class=\"dataframe\">\n  <thead>\n    <tr style=\"text-align: right;\">\n      <th></th>\n      <th>date</th>\n      <th>start_time</th>\n      <th>segment</th>\n      <th>avg_run_time</th>\n    </tr>\n  </thead>\n  <tbody>\n    <tr>\n      <th>765</th>\n      <td>2021-10-01</td>\n      <td>06:00:00</td>\n      <td>1</td>\n      <td>0.0</td>\n    </tr>\n    <tr>\n      <th>766</th>\n      <td>2021-10-01</td>\n      <td>06:00:00</td>\n      <td>2</td>\n      <td>0.0</td>\n    </tr>\n    <tr>\n      <th>767</th>\n      <td>2021-10-01</td>\n      <td>06:00:00</td>\n      <td>3</td>\n      <td>0.0</td>\n    </tr>\n    <tr>\n      <th>768</th>\n      <td>2021-10-01</td>\n      <td>06:00:00</td>\n      <td>4</td>\n      <td>0.0</td>\n    </tr>\n    <tr>\n      <th>769</th>\n      <td>2021-10-01</td>\n      <td>06:00:00</td>\n      <td>5</td>\n      <td>0.0</td>\n    </tr>\n    <tr>\n      <th>770</th>\n      <td>2021-10-01</td>\n      <td>06:00:00</td>\n      <td>6</td>\n      <td>0.0</td>\n    </tr>\n    <tr>\n      <th>771</th>\n      <td>2021-10-01</td>\n      <td>06:00:00</td>\n      <td>7</td>\n      <td>0.0</td>\n    </tr>\n    <tr>\n      <th>772</th>\n      <td>2021-10-01</td>\n      <td>06:00:00</td>\n      <td>8</td>\n      <td>0.0</td>\n    </tr>\n    <tr>\n      <th>773</th>\n      <td>2021-10-01</td>\n      <td>06:00:00</td>\n      <td>9</td>\n      <td>0.0</td>\n    </tr>\n    <tr>\n      <th>774</th>\n      <td>2021-10-01</td>\n      <td>06:00:00</td>\n      <td>10</td>\n      <td>0.0</td>\n    </tr>\n    <tr>\n      <th>775</th>\n      <td>2021-10-01</td>\n      <td>06:00:00</td>\n      <td>11</td>\n      <td>0.0</td>\n    </tr>\n    <tr>\n      <th>776</th>\n      <td>2021-10-01</td>\n      <td>06:00:00</td>\n      <td>12</td>\n      <td>0.0</td>\n    </tr>\n    <tr>\n      <th>777</th>\n      <td>2021-10-01</td>\n      <td>06:00:00</td>\n      <td>13</td>\n      <td>0.0</td>\n    </tr>\n    <tr>\n      <th>778</th>\n      <td>2021-10-01</td>\n      <td>06:00:00</td>\n      <td>14</td>\n      <td>0.0</td>\n    </tr>\n    <tr>\n      <th>779</th>\n      <td>2021-10-01</td>\n      <td>06:00:00</td>\n      <td>15</td>\n      <td>0.0</td>\n    </tr>\n    <tr>\n      <th>750</th>\n      <td>2021-10-01</td>\n      <td>06:15:00</td>\n      <td>1</td>\n      <td>0.0</td>\n    </tr>\n    <tr>\n      <th>751</th>\n      <td>2021-10-01</td>\n      <td>06:15:00</td>\n      <td>2</td>\n      <td>0.0</td>\n    </tr>\n    <tr>\n      <th>752</th>\n      <td>2021-10-01</td>\n      <td>06:15:00</td>\n      <td>3</td>\n      <td>0.0</td>\n    </tr>\n    <tr>\n      <th>753</th>\n      <td>2021-10-01</td>\n      <td>06:15:00</td>\n      <td>4</td>\n      <td>0.0</td>\n    </tr>\n    <tr>\n      <th>754</th>\n      <td>2021-10-01</td>\n      <td>06:15:00</td>\n      <td>5</td>\n      <td>0.0</td>\n    </tr>\n    <tr>\n      <th>755</th>\n      <td>2021-10-01</td>\n      <td>06:15:00</td>\n      <td>6</td>\n      <td>0.0</td>\n    </tr>\n    <tr>\n      <th>756</th>\n      <td>2021-10-01</td>\n      <td>06:15:00</td>\n      <td>7</td>\n      <td>0.0</td>\n    </tr>\n    <tr>\n      <th>757</th>\n      <td>2021-10-01</td>\n      <td>06:15:00</td>\n      <td>8</td>\n      <td>0.0</td>\n    </tr>\n    <tr>\n      <th>758</th>\n      <td>2021-10-01</td>\n      <td>06:15:00</td>\n      <td>9</td>\n      <td>0.0</td>\n    </tr>\n    <tr>\n      <th>759</th>\n      <td>2021-10-01</td>\n      <td>06:15:00</td>\n      <td>10</td>\n      <td>0.0</td>\n    </tr>\n    <tr>\n      <th>760</th>\n      <td>2021-10-01</td>\n      <td>06:15:00</td>\n      <td>11</td>\n      <td>0.0</td>\n    </tr>\n    <tr>\n      <th>761</th>\n      <td>2021-10-01</td>\n      <td>06:15:00</td>\n      <td>12</td>\n      <td>0.0</td>\n    </tr>\n    <tr>\n      <th>762</th>\n      <td>2021-10-01</td>\n      <td>06:15:00</td>\n      <td>13</td>\n      <td>0.0</td>\n    </tr>\n    <tr>\n      <th>763</th>\n      <td>2021-10-01</td>\n      <td>06:15:00</td>\n      <td>14</td>\n      <td>0.0</td>\n    </tr>\n    <tr>\n      <th>764</th>\n      <td>2021-10-01</td>\n      <td>06:15:00</td>\n      <td>15</td>\n      <td>0.0</td>\n    </tr>\n    <tr>\n      <th>0</th>\n      <td>2021-10-01</td>\n      <td>06:30:00</td>\n      <td>1</td>\n      <td>69.0</td>\n    </tr>\n    <tr>\n      <th>1</th>\n      <td>2021-10-01</td>\n      <td>06:30:00</td>\n      <td>2</td>\n      <td>210.0</td>\n    </tr>\n    <tr>\n      <th>2</th>\n      <td>2021-10-01</td>\n      <td>06:30:00</td>\n      <td>3</td>\n      <td>0.0</td>\n    </tr>\n    <tr>\n      <th>3</th>\n      <td>2021-10-01</td>\n      <td>06:30:00</td>\n      <td>4</td>\n      <td>0.0</td>\n    </tr>\n    <tr>\n      <th>4</th>\n      <td>2021-10-01</td>\n      <td>06:30:00</td>\n      <td>5</td>\n      <td>0.0</td>\n    </tr>\n    <tr>\n      <th>5</th>\n      <td>2021-10-01</td>\n      <td>06:30:00</td>\n      <td>6</td>\n      <td>0.0</td>\n    </tr>\n    <tr>\n      <th>6</th>\n      <td>2021-10-01</td>\n      <td>06:30:00</td>\n      <td>7</td>\n      <td>0.0</td>\n    </tr>\n    <tr>\n      <th>7</th>\n      <td>2021-10-01</td>\n      <td>06:30:00</td>\n      <td>8</td>\n      <td>0.0</td>\n    </tr>\n    <tr>\n      <th>8</th>\n      <td>2021-10-01</td>\n      <td>06:30:00</td>\n      <td>9</td>\n      <td>0.0</td>\n    </tr>\n    <tr>\n      <th>9</th>\n      <td>2021-10-01</td>\n      <td>06:30:00</td>\n      <td>10</td>\n      <td>0.0</td>\n    </tr>\n    <tr>\n      <th>10</th>\n      <td>2021-10-01</td>\n      <td>06:30:00</td>\n      <td>11</td>\n      <td>0.0</td>\n    </tr>\n    <tr>\n      <th>11</th>\n      <td>2021-10-01</td>\n      <td>06:30:00</td>\n      <td>12</td>\n      <td>0.0</td>\n    </tr>\n    <tr>\n      <th>12</th>\n      <td>2021-10-01</td>\n      <td>06:30:00</td>\n      <td>13</td>\n      <td>0.0</td>\n    </tr>\n    <tr>\n      <th>13</th>\n      <td>2021-10-01</td>\n      <td>06:30:00</td>\n      <td>14</td>\n      <td>0.0</td>\n    </tr>\n    <tr>\n      <th>14</th>\n      <td>2021-10-01</td>\n      <td>06:30:00</td>\n      <td>15</td>\n      <td>0.0</td>\n    </tr>\n    <tr>\n      <th>15</th>\n      <td>2021-10-01</td>\n      <td>06:45:00</td>\n      <td>1</td>\n      <td>0.0</td>\n    </tr>\n    <tr>\n      <th>16</th>\n      <td>2021-10-01</td>\n      <td>06:45:00</td>\n      <td>2</td>\n      <td>0.0</td>\n    </tr>\n    <tr>\n      <th>17</th>\n      <td>2021-10-01</td>\n      <td>06:45:00</td>\n      <td>3</td>\n      <td>496.0</td>\n    </tr>\n    <tr>\n      <th>18</th>\n      <td>2021-10-01</td>\n      <td>06:45:00</td>\n      <td>4</td>\n      <td>195.0</td>\n    </tr>\n    <tr>\n      <th>19</th>\n      <td>2021-10-01</td>\n      <td>06:45:00</td>\n      <td>5</td>\n      <td>97.0</td>\n    </tr>\n  </tbody>\n</table>\n</div>"
     },
     "execution_count": 291,
     "metadata": {},
     "output_type": "execute_result"
    }
   ],
   "source": [
    "df2.head(50)"
   ],
   "metadata": {
    "collapsed": false,
    "ExecuteTime": {
     "end_time": "2023-08-22T06:23:22.971946800Z",
     "start_time": "2023-08-22T06:23:22.917833300Z"
    }
   },
   "id": "c6fb60451605925d"
  },
  {
   "cell_type": "code",
   "execution_count": 292,
   "outputs": [
    {
     "name": "stdout",
     "output_type": "stream",
     "text": [
      "Number of rows with 0 avg_run_time: 114914\n"
     ]
    }
   ],
   "source": [
    "# Count the number of rows with a value of 0 in avg_run_time\n",
    "num_zero_values = (df2['avg_run_time'] == 0).sum()\n",
    "\n",
    "print(f\"Number of rows with 0 avg_run_time: {num_zero_values}\")"
   ],
   "metadata": {
    "collapsed": false,
    "ExecuteTime": {
     "end_time": "2023-08-22T06:23:22.972945300Z",
     "start_time": "2023-08-22T06:23:22.944296500Z"
    }
   },
   "id": "e20e226230eefbb"
  },
  {
   "cell_type": "code",
   "execution_count": 293,
   "outputs": [],
   "source": [
    "# To handle outliers in the avg_run_time column of your DataFrame using the absolute deviation around the median method, you can follow these steps:\n",
    "# \n",
    "#     Calculate the median of the avg_run_time column.\n",
    "#     Calculate the absolute deviations of each value from the median.\n",
    "#     Calculate the median absolute deviation (MAD) using the absolute deviations.\n",
    "#     Set a threshold (for example, a multiple of MAD) to identify outliers.\n",
    "#     Replace the outlier values with a suitable value (e.g., the median).\n",
    "\n",
    "def handleOutliers(df):\n",
    "    # Calculate the median of avg_run_time\n",
    "    median_avg_run_time = df['avg_run_time'].median()\n",
    "    \n",
    "    # Calculate the absolute deviations\n",
    "    df['abs_deviation'] = np.abs(df['avg_run_time'] - median_avg_run_time)\n",
    "    \n",
    "    # Calculate the median absolute deviation (MAD)\n",
    "    mad = df['abs_deviation'].median()\n",
    "    \n",
    "    # Set a threshold (for example, 3 times MAD) to identify outliers\n",
    "    threshold = 3 * mad\n",
    "    \n",
    "    # Replace outliers with the median value\n",
    "    df.loc[df['abs_deviation'] > threshold, 'avg_run_time'] = median_avg_run_time\n",
    "    \n",
    "    # Drop the temporary column\n",
    "    df = df.drop(columns=['abs_deviation'])\n",
    "    \n",
    "    return df"
   ],
   "metadata": {
    "collapsed": false,
    "ExecuteTime": {
     "end_time": "2023-08-22T06:23:22.973938800Z",
     "start_time": "2023-08-22T06:23:22.952346400Z"
    }
   },
   "id": "d8c2a3831f297582"
  },
  {
   "cell_type": "code",
   "execution_count": 294,
   "outputs": [],
   "source": [
    "df3 = handleOutliers(df2)"
   ],
   "metadata": {
    "collapsed": false,
    "ExecuteTime": {
     "end_time": "2023-08-22T06:23:23.066135200Z",
     "start_time": "2023-08-22T06:23:22.962967300Z"
    }
   },
   "id": "ea85bef93ea6c6fd"
  },
  {
   "cell_type": "code",
   "execution_count": 295,
   "outputs": [
    {
     "data": {
      "text/plain": "          date start_time segment  avg_run_time\n765 2021-10-01   06:00:00       1           0.0\n766 2021-10-01   06:00:00       2           0.0\n767 2021-10-01   06:00:00       3           0.0\n768 2021-10-01   06:00:00       4           0.0\n769 2021-10-01   06:00:00       5           0.0\n..         ...        ...     ...           ...\n685 2021-10-01   08:15:00      11           0.0\n686 2021-10-01   08:15:00      12           0.0\n687 2021-10-01   08:15:00      13           0.0\n688 2021-10-01   08:15:00      14           0.0\n689 2021-10-01   08:15:00      15           0.0\n\n[150 rows x 4 columns]",
      "text/html": "<div>\n<style scoped>\n    .dataframe tbody tr th:only-of-type {\n        vertical-align: middle;\n    }\n\n    .dataframe tbody tr th {\n        vertical-align: top;\n    }\n\n    .dataframe thead th {\n        text-align: right;\n    }\n</style>\n<table border=\"1\" class=\"dataframe\">\n  <thead>\n    <tr style=\"text-align: right;\">\n      <th></th>\n      <th>date</th>\n      <th>start_time</th>\n      <th>segment</th>\n      <th>avg_run_time</th>\n    </tr>\n  </thead>\n  <tbody>\n    <tr>\n      <th>765</th>\n      <td>2021-10-01</td>\n      <td>06:00:00</td>\n      <td>1</td>\n      <td>0.0</td>\n    </tr>\n    <tr>\n      <th>766</th>\n      <td>2021-10-01</td>\n      <td>06:00:00</td>\n      <td>2</td>\n      <td>0.0</td>\n    </tr>\n    <tr>\n      <th>767</th>\n      <td>2021-10-01</td>\n      <td>06:00:00</td>\n      <td>3</td>\n      <td>0.0</td>\n    </tr>\n    <tr>\n      <th>768</th>\n      <td>2021-10-01</td>\n      <td>06:00:00</td>\n      <td>4</td>\n      <td>0.0</td>\n    </tr>\n    <tr>\n      <th>769</th>\n      <td>2021-10-01</td>\n      <td>06:00:00</td>\n      <td>5</td>\n      <td>0.0</td>\n    </tr>\n    <tr>\n      <th>...</th>\n      <td>...</td>\n      <td>...</td>\n      <td>...</td>\n      <td>...</td>\n    </tr>\n    <tr>\n      <th>685</th>\n      <td>2021-10-01</td>\n      <td>08:15:00</td>\n      <td>11</td>\n      <td>0.0</td>\n    </tr>\n    <tr>\n      <th>686</th>\n      <td>2021-10-01</td>\n      <td>08:15:00</td>\n      <td>12</td>\n      <td>0.0</td>\n    </tr>\n    <tr>\n      <th>687</th>\n      <td>2021-10-01</td>\n      <td>08:15:00</td>\n      <td>13</td>\n      <td>0.0</td>\n    </tr>\n    <tr>\n      <th>688</th>\n      <td>2021-10-01</td>\n      <td>08:15:00</td>\n      <td>14</td>\n      <td>0.0</td>\n    </tr>\n    <tr>\n      <th>689</th>\n      <td>2021-10-01</td>\n      <td>08:15:00</td>\n      <td>15</td>\n      <td>0.0</td>\n    </tr>\n  </tbody>\n</table>\n<p>150 rows × 4 columns</p>\n</div>"
     },
     "execution_count": 295,
     "metadata": {},
     "output_type": "execute_result"
    }
   ],
   "source": [
    "df3.head(150)"
   ],
   "metadata": {
    "collapsed": false,
    "ExecuteTime": {
     "end_time": "2023-08-22T06:23:23.145923800Z",
     "start_time": "2023-08-22T06:23:22.991172900Z"
    }
   },
   "id": "2044a76cf48b12"
  },
  {
   "cell_type": "code",
   "execution_count": 296,
   "outputs": [
    {
     "data": {
      "text/plain": "187200"
     },
     "execution_count": 296,
     "metadata": {},
     "output_type": "execute_result"
    }
   ],
   "source": [
    "len(df3)"
   ],
   "metadata": {
    "collapsed": false,
    "ExecuteTime": {
     "end_time": "2023-08-22T06:23:23.145923800Z",
     "start_time": "2023-08-22T06:23:23.014277100Z"
    }
   },
   "id": "b2544c76ad07805c"
  },
  {
   "cell_type": "code",
   "execution_count": 326,
   "outputs": [
    {
     "name": "stdout",
     "output_type": "stream",
     "text": [
      "Number of rows with 0 avg_run_time: 187200\n"
     ]
    }
   ],
   "source": [
    "# Count the number of rows with a value of 0 in avg_run_time\n",
    "num_zero_values = (df3['avg_run_time'] == 0).sum()\n",
    "\n",
    "print(f\"Number of rows with 0 avg_run_time: {num_zero_values}\")"
   ],
   "metadata": {
    "collapsed": false,
    "ExecuteTime": {
     "end_time": "2023-08-22T11:23:20.904481800Z",
     "start_time": "2023-08-22T11:23:20.868538400Z"
    }
   },
   "id": "713d240114753c4"
  },
  {
   "cell_type": "code",
   "execution_count": 305,
   "outputs": [
    {
     "data": {
      "text/plain": "             date start_time segment  avg_run_time\n765    2021-10-01   06:00:00       1           0.0\n766    2021-10-01   06:00:00       2           0.0\n767    2021-10-01   06:00:00       3           0.0\n768    2021-10-01   06:00:00       4           0.0\n769    2021-10-01   06:00:00       5           0.0\n...           ...        ...     ...           ...\n187015 2022-09-30   18:45:00      11           0.0\n187016 2022-09-30   18:45:00      12           0.0\n187017 2022-09-30   18:45:00      13           0.0\n187018 2022-09-30   18:45:00      14           0.0\n187019 2022-09-30   18:45:00      15           0.0\n\n[187200 rows x 4 columns]",
      "text/html": "<div>\n<style scoped>\n    .dataframe tbody tr th:only-of-type {\n        vertical-align: middle;\n    }\n\n    .dataframe tbody tr th {\n        vertical-align: top;\n    }\n\n    .dataframe thead th {\n        text-align: right;\n    }\n</style>\n<table border=\"1\" class=\"dataframe\">\n  <thead>\n    <tr style=\"text-align: right;\">\n      <th></th>\n      <th>date</th>\n      <th>start_time</th>\n      <th>segment</th>\n      <th>avg_run_time</th>\n    </tr>\n  </thead>\n  <tbody>\n    <tr>\n      <th>765</th>\n      <td>2021-10-01</td>\n      <td>06:00:00</td>\n      <td>1</td>\n      <td>0.0</td>\n    </tr>\n    <tr>\n      <th>766</th>\n      <td>2021-10-01</td>\n      <td>06:00:00</td>\n      <td>2</td>\n      <td>0.0</td>\n    </tr>\n    <tr>\n      <th>767</th>\n      <td>2021-10-01</td>\n      <td>06:00:00</td>\n      <td>3</td>\n      <td>0.0</td>\n    </tr>\n    <tr>\n      <th>768</th>\n      <td>2021-10-01</td>\n      <td>06:00:00</td>\n      <td>4</td>\n      <td>0.0</td>\n    </tr>\n    <tr>\n      <th>769</th>\n      <td>2021-10-01</td>\n      <td>06:00:00</td>\n      <td>5</td>\n      <td>0.0</td>\n    </tr>\n    <tr>\n      <th>...</th>\n      <td>...</td>\n      <td>...</td>\n      <td>...</td>\n      <td>...</td>\n    </tr>\n    <tr>\n      <th>187015</th>\n      <td>2022-09-30</td>\n      <td>18:45:00</td>\n      <td>11</td>\n      <td>0.0</td>\n    </tr>\n    <tr>\n      <th>187016</th>\n      <td>2022-09-30</td>\n      <td>18:45:00</td>\n      <td>12</td>\n      <td>0.0</td>\n    </tr>\n    <tr>\n      <th>187017</th>\n      <td>2022-09-30</td>\n      <td>18:45:00</td>\n      <td>13</td>\n      <td>0.0</td>\n    </tr>\n    <tr>\n      <th>187018</th>\n      <td>2022-09-30</td>\n      <td>18:45:00</td>\n      <td>14</td>\n      <td>0.0</td>\n    </tr>\n    <tr>\n      <th>187019</th>\n      <td>2022-09-30</td>\n      <td>18:45:00</td>\n      <td>15</td>\n      <td>0.0</td>\n    </tr>\n  </tbody>\n</table>\n<p>187200 rows × 4 columns</p>\n</div>"
     },
     "execution_count": 305,
     "metadata": {},
     "output_type": "execute_result"
    }
   ],
   "source": [
    "df3"
   ],
   "metadata": {
    "collapsed": false,
    "ExecuteTime": {
     "end_time": "2023-08-22T07:18:49.275722100Z",
     "start_time": "2023-08-22T07:18:49.267271700Z"
    }
   },
   "id": "b17ba5c9fa146ae0"
  },
  {
   "cell_type": "code",
   "execution_count": null,
   "outputs": [],
   "source": [],
   "metadata": {
    "collapsed": false
   },
   "id": "521fba3d9b2fa75e"
  },
  {
   "cell_type": "code",
   "execution_count": 321,
   "outputs": [],
   "source": [
    "def normalizeSTD(df):\n",
    "    # Filter out zero values when calculating mean for each segment, start time, and weekday\n",
    "    mean_data = df.groupby(['segment', 'start_time', df['date'].dt.weekday])['avg_run_time'].mean()\n",
    "    # Filter out zero values when calculating standard deviation for each segment\n",
    "    std_data = df.groupby('segment')['avg_run_time'].std()\n",
    "\n",
    "    print(mean_data)\n",
    "    print(std_data)\n",
    "    \n",
    "    # Normalize values and create a new DataFrame\n",
    "    normalized_data = []\n",
    "    for index, row in df.iterrows():\n",
    "        segment, start_time, weekday = row['segment'], row['start_time'], row['date'].weekday()\n",
    "        mean_value = mean_data.get((segment, start_time, weekday), 0)  # Default to 0 if not found\n",
    "        std_value = std_data.get(segment, 1)  # Default to 1 if not found to avoid division by zero\n",
    "        \n",
    "        # If the value is non-zero, calculate normalized value; otherwise, keep it as zero\n",
    "        normalized_value = (row['avg_run_time'] - mean_value) / std_value if row['avg_run_time'] != 0 else 0\n",
    "        normalized_data.append((row['date'], row['start_time'], segment, normalized_value))\n",
    "    \n",
    "    normalized_columns = ['date', 'start_time', 'segment', 'normalized_avg_run_time']\n",
    "    df_normalized = pd.DataFrame(normalized_data, columns=normalized_columns)\n",
    "    return df_normalized\n",
    "\n"
   ],
   "metadata": {
    "collapsed": false,
    "ExecuteTime": {
     "end_time": "2023-08-22T11:19:51.902981700Z",
     "start_time": "2023-08-22T11:19:51.867118600Z"
    }
   },
   "id": "916eeebadcb64fc9"
  },
  {
   "cell_type": "code",
   "execution_count": 303,
   "outputs": [],
   "source": [
    "def normalzeMinMax(df):\n",
    "    \n",
    "    # Calculate the minimum avg_run_time for each segment, start time, and weekday\n",
    "    min_data = df.groupby(['segment', 'start_time', df['date'].dt.weekday])['avg_run_time'].min()\n",
    "    max_data = df.groupby(['segment', 'start_time', df['date'].dt.weekday])['avg_run_time'].max()\n",
    "    \n",
    "    # Normalize values and create a new DataFrame\n",
    "    normalized_data = []\n",
    "    for index, row in df.iterrows():\n",
    "        segment, start_time, weekday = row['segment'], row['start_time'], row['date'].weekday()\n",
    "        min_value = min_data.get((segment, start_time, weekday), 0)  # Default to 0 if not found\n",
    "        max_value = max_data.get((segment, start_time, weekday), 0)  # Default to 0 if not found\n",
    "        \n",
    "        if max_value == 0:\n",
    "            normalized_value = 0\n",
    "        else:\n",
    "            normalized_value = (row['avg_run_time'] - min_value) / (max_value - min_value)\n",
    "        \n",
    "        normalized_data.append((row['date'], row['start_time'], segment, normalized_value))\n",
    "    \n",
    "    normalized_columns = ['date', 'start_time', 'segment', 'normalized_avg_run_time']\n",
    "    df_normalized = pd.DataFrame(normalized_data, columns=normalized_columns)\n",
    "    return  df_normalized"
   ],
   "metadata": {
    "collapsed": false,
    "ExecuteTime": {
     "end_time": "2023-08-22T06:34:22.570369100Z",
     "start_time": "2023-08-22T06:34:22.557367Z"
    }
   },
   "id": "b52b7c4078fe2192"
  },
  {
   "cell_type": "code",
   "execution_count": 325,
   "outputs": [
    {
     "data": {
      "text/plain": "0"
     },
     "execution_count": 325,
     "metadata": {},
     "output_type": "execute_result"
    }
   ],
   "source": [
    "df4 = df3[df3['avg_run_time'] != 0]\n",
    "len(df4)"
   ],
   "metadata": {
    "collapsed": false,
    "ExecuteTime": {
     "end_time": "2023-08-22T11:22:34.379258500Z",
     "start_time": "2023-08-22T11:22:34.236124100Z"
    }
   },
   "id": "cda6ab1c9fa24e62"
  },
  {
   "cell_type": "code",
   "execution_count": null,
   "outputs": [],
   "source": [],
   "metadata": {
    "collapsed": false
   },
   "id": "c7dfebb8890e61a1"
  }
 ],
 "metadata": {
  "kernelspec": {
   "display_name": "Python 3",
   "language": "python",
   "name": "python3"
  },
  "language_info": {
   "codemirror_mode": {
    "name": "ipython",
    "version": 2
   },
   "file_extension": ".py",
   "mimetype": "text/x-python",
   "name": "python",
   "nbconvert_exporter": "python",
   "pygments_lexer": "ipython2",
   "version": "2.7.6"
  }
 },
 "nbformat": 4,
 "nbformat_minor": 5
}
