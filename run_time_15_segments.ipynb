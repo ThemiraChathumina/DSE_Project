{
 "cells": [
  {
   "cell_type": "code",
   "execution_count": 11,
   "id": "initial_id",
   "metadata": {
    "collapsed": true,
    "ExecuteTime": {
     "end_time": "2023-08-21T14:12:25.788410900Z",
     "start_time": "2023-08-21T14:12:25.760450700Z"
    }
   },
   "outputs": [],
   "source": [
    "import numpy as np\n",
    "import pandas as pd\n",
    "from sklearn.model_selection import train_test_split\n",
    "from sklearn.metrics import mean_squared_error\n",
    "from tensorflow.keras.models import Sequential\n",
    "from tensorflow.keras.layers import BatchNormalization, ConvLSTM2D, Dropout, Flatten, RepeatVector, Reshape, TimeDistributed, Dense\n",
    "from tensorflow.keras.optimizers import RMSprop\n",
    "from tensorflow.keras.callbacks import EarlyStopping\n"
   ]
  },
  {
   "cell_type": "code",
   "execution_count": 12,
   "outputs": [],
   "source": [
    "segments = 15"
   ],
   "metadata": {
    "collapsed": false,
    "ExecuteTime": {
     "end_time": "2023-08-21T14:12:25.869460700Z",
     "start_time": "2023-08-21T14:12:25.764442800Z"
    }
   },
   "id": "28978b76a6e6969c"
  },
  {
   "cell_type": "code",
   "execution_count": 13,
   "outputs": [],
   "source": [
    "initial = pd.read_csv(\"data/bus_running_times_feature_added_all.csv\")"
   ],
   "metadata": {
    "collapsed": false,
    "ExecuteTime": {
     "end_time": "2023-08-21T14:12:27.677099700Z",
     "start_time": "2023-08-21T14:12:25.809539400Z"
    }
   },
   "id": "32d31bb9795bc826"
  },
  {
   "cell_type": "code",
   "execution_count": 14,
   "outputs": [
    {
     "data": {
      "text/plain": "   trip_id  deviceid  direction  segment        date start_time  end_time  \\\n0      1.0     262.0        1.0      1.0  2021-10-01   06:39:49  06:40:58   \n1      1.0     262.0        1.0      2.0  2021-10-01   06:42:12  06:45:42   \n2      1.0     262.0        1.0      3.0  2021-10-01   06:45:42  06:53:58   \n3      1.0     262.0        1.0      4.0  2021-10-01   06:54:04  06:57:19   \n4      1.0     262.0        1.0      5.0  2021-10-01   06:57:19  06:58:56   \n\n          run_time  run_time_in_seconds  length  ...  rt(n-2)  rt(n-3)  \\\n0  0 days 00:01:09                 69.0  0.6261  ...     96.0     96.0   \n1  0 days 00:03:30                210.0  1.2808  ...    247.0    247.0   \n2  0 days 00:08:16                496.0  2.1125  ...     69.0    506.0   \n3  0 days 00:03:15                195.0  1.5513  ...    210.0     69.0   \n4  0 days 00:01:37                 97.0  0.8450  ...    496.0    210.0   \n\n   hour_of_day  day  month  temp  precip  windspeed        conditions  dt(n-1)  \n0          6.0  1.0   10.0  20.0     0.0        6.1  Partially cloudy      0.0  \n1          6.0  1.0   10.0  20.0     0.0        6.1  Partially cloudy     74.0  \n2          6.0  1.0   10.0  20.0     0.0        6.1  Partially cloudy      0.0  \n3          6.0  1.0   10.0  20.0     0.0        6.1  Partially cloudy      6.0  \n4          6.0  1.0   10.0  20.0     0.0        6.1  Partially cloudy      0.0  \n\n[5 rows x 32 columns]",
      "text/html": "<div>\n<style scoped>\n    .dataframe tbody tr th:only-of-type {\n        vertical-align: middle;\n    }\n\n    .dataframe tbody tr th {\n        vertical-align: top;\n    }\n\n    .dataframe thead th {\n        text-align: right;\n    }\n</style>\n<table border=\"1\" class=\"dataframe\">\n  <thead>\n    <tr style=\"text-align: right;\">\n      <th></th>\n      <th>trip_id</th>\n      <th>deviceid</th>\n      <th>direction</th>\n      <th>segment</th>\n      <th>date</th>\n      <th>start_time</th>\n      <th>end_time</th>\n      <th>run_time</th>\n      <th>run_time_in_seconds</th>\n      <th>length</th>\n      <th>...</th>\n      <th>rt(n-2)</th>\n      <th>rt(n-3)</th>\n      <th>hour_of_day</th>\n      <th>day</th>\n      <th>month</th>\n      <th>temp</th>\n      <th>precip</th>\n      <th>windspeed</th>\n      <th>conditions</th>\n      <th>dt(n-1)</th>\n    </tr>\n  </thead>\n  <tbody>\n    <tr>\n      <th>0</th>\n      <td>1.0</td>\n      <td>262.0</td>\n      <td>1.0</td>\n      <td>1.0</td>\n      <td>2021-10-01</td>\n      <td>06:39:49</td>\n      <td>06:40:58</td>\n      <td>0 days 00:01:09</td>\n      <td>69.0</td>\n      <td>0.6261</td>\n      <td>...</td>\n      <td>96.0</td>\n      <td>96.0</td>\n      <td>6.0</td>\n      <td>1.0</td>\n      <td>10.0</td>\n      <td>20.0</td>\n      <td>0.0</td>\n      <td>6.1</td>\n      <td>Partially cloudy</td>\n      <td>0.0</td>\n    </tr>\n    <tr>\n      <th>1</th>\n      <td>1.0</td>\n      <td>262.0</td>\n      <td>1.0</td>\n      <td>2.0</td>\n      <td>2021-10-01</td>\n      <td>06:42:12</td>\n      <td>06:45:42</td>\n      <td>0 days 00:03:30</td>\n      <td>210.0</td>\n      <td>1.2808</td>\n      <td>...</td>\n      <td>247.0</td>\n      <td>247.0</td>\n      <td>6.0</td>\n      <td>1.0</td>\n      <td>10.0</td>\n      <td>20.0</td>\n      <td>0.0</td>\n      <td>6.1</td>\n      <td>Partially cloudy</td>\n      <td>74.0</td>\n    </tr>\n    <tr>\n      <th>2</th>\n      <td>1.0</td>\n      <td>262.0</td>\n      <td>1.0</td>\n      <td>3.0</td>\n      <td>2021-10-01</td>\n      <td>06:45:42</td>\n      <td>06:53:58</td>\n      <td>0 days 00:08:16</td>\n      <td>496.0</td>\n      <td>2.1125</td>\n      <td>...</td>\n      <td>69.0</td>\n      <td>506.0</td>\n      <td>6.0</td>\n      <td>1.0</td>\n      <td>10.0</td>\n      <td>20.0</td>\n      <td>0.0</td>\n      <td>6.1</td>\n      <td>Partially cloudy</td>\n      <td>0.0</td>\n    </tr>\n    <tr>\n      <th>3</th>\n      <td>1.0</td>\n      <td>262.0</td>\n      <td>1.0</td>\n      <td>4.0</td>\n      <td>2021-10-01</td>\n      <td>06:54:04</td>\n      <td>06:57:19</td>\n      <td>0 days 00:03:15</td>\n      <td>195.0</td>\n      <td>1.5513</td>\n      <td>...</td>\n      <td>210.0</td>\n      <td>69.0</td>\n      <td>6.0</td>\n      <td>1.0</td>\n      <td>10.0</td>\n      <td>20.0</td>\n      <td>0.0</td>\n      <td>6.1</td>\n      <td>Partially cloudy</td>\n      <td>6.0</td>\n    </tr>\n    <tr>\n      <th>4</th>\n      <td>1.0</td>\n      <td>262.0</td>\n      <td>1.0</td>\n      <td>5.0</td>\n      <td>2021-10-01</td>\n      <td>06:57:19</td>\n      <td>06:58:56</td>\n      <td>0 days 00:01:37</td>\n      <td>97.0</td>\n      <td>0.8450</td>\n      <td>...</td>\n      <td>496.0</td>\n      <td>210.0</td>\n      <td>6.0</td>\n      <td>1.0</td>\n      <td>10.0</td>\n      <td>20.0</td>\n      <td>0.0</td>\n      <td>6.1</td>\n      <td>Partially cloudy</td>\n      <td>0.0</td>\n    </tr>\n  </tbody>\n</table>\n<p>5 rows × 32 columns</p>\n</div>"
     },
     "execution_count": 14,
     "metadata": {},
     "output_type": "execute_result"
    }
   ],
   "source": [
    "initial.head()"
   ],
   "metadata": {
    "collapsed": false,
    "ExecuteTime": {
     "end_time": "2023-08-21T14:12:27.743586500Z",
     "start_time": "2023-08-21T14:12:27.677099700Z"
    }
   },
   "id": "4d7263671328ffda"
  },
  {
   "cell_type": "code",
   "execution_count": 15,
   "outputs": [
    {
     "data": {
      "text/plain": "   trip_id  deviceid  direction  segment        date start_time  end_time  \\\n0      1.0     262.0        1.0      1.0  2021-10-01   06:39:49  06:40:58   \n1      1.0     262.0        1.0      2.0  2021-10-01   06:42:12  06:45:42   \n2      1.0     262.0        1.0      3.0  2021-10-01   06:45:42  06:53:58   \n3      1.0     262.0        1.0      4.0  2021-10-01   06:54:04  06:57:19   \n4      1.0     262.0        1.0      5.0  2021-10-01   06:57:19  06:58:56   \n\n          run_time  run_time_in_seconds  \n0  0 days 00:01:09                 69.0  \n1  0 days 00:03:30                210.0  \n2  0 days 00:08:16                496.0  \n3  0 days 00:03:15                195.0  \n4  0 days 00:01:37                 97.0  ",
      "text/html": "<div>\n<style scoped>\n    .dataframe tbody tr th:only-of-type {\n        vertical-align: middle;\n    }\n\n    .dataframe tbody tr th {\n        vertical-align: top;\n    }\n\n    .dataframe thead th {\n        text-align: right;\n    }\n</style>\n<table border=\"1\" class=\"dataframe\">\n  <thead>\n    <tr style=\"text-align: right;\">\n      <th></th>\n      <th>trip_id</th>\n      <th>deviceid</th>\n      <th>direction</th>\n      <th>segment</th>\n      <th>date</th>\n      <th>start_time</th>\n      <th>end_time</th>\n      <th>run_time</th>\n      <th>run_time_in_seconds</th>\n    </tr>\n  </thead>\n  <tbody>\n    <tr>\n      <th>0</th>\n      <td>1.0</td>\n      <td>262.0</td>\n      <td>1.0</td>\n      <td>1.0</td>\n      <td>2021-10-01</td>\n      <td>06:39:49</td>\n      <td>06:40:58</td>\n      <td>0 days 00:01:09</td>\n      <td>69.0</td>\n    </tr>\n    <tr>\n      <th>1</th>\n      <td>1.0</td>\n      <td>262.0</td>\n      <td>1.0</td>\n      <td>2.0</td>\n      <td>2021-10-01</td>\n      <td>06:42:12</td>\n      <td>06:45:42</td>\n      <td>0 days 00:03:30</td>\n      <td>210.0</td>\n    </tr>\n    <tr>\n      <th>2</th>\n      <td>1.0</td>\n      <td>262.0</td>\n      <td>1.0</td>\n      <td>3.0</td>\n      <td>2021-10-01</td>\n      <td>06:45:42</td>\n      <td>06:53:58</td>\n      <td>0 days 00:08:16</td>\n      <td>496.0</td>\n    </tr>\n    <tr>\n      <th>3</th>\n      <td>1.0</td>\n      <td>262.0</td>\n      <td>1.0</td>\n      <td>4.0</td>\n      <td>2021-10-01</td>\n      <td>06:54:04</td>\n      <td>06:57:19</td>\n      <td>0 days 00:03:15</td>\n      <td>195.0</td>\n    </tr>\n    <tr>\n      <th>4</th>\n      <td>1.0</td>\n      <td>262.0</td>\n      <td>1.0</td>\n      <td>5.0</td>\n      <td>2021-10-01</td>\n      <td>06:57:19</td>\n      <td>06:58:56</td>\n      <td>0 days 00:01:37</td>\n      <td>97.0</td>\n    </tr>\n  </tbody>\n</table>\n</div>"
     },
     "execution_count": 15,
     "metadata": {},
     "output_type": "execute_result"
    }
   ],
   "source": [
    "busses_new = initial[['trip_id','deviceid','direction','segment','date','start_time','end_time','run_time','run_time_in_seconds']]\n",
    "busses_new.head()"
   ],
   "metadata": {
    "collapsed": false,
    "ExecuteTime": {
     "end_time": "2023-08-21T14:12:27.867679800Z",
     "start_time": "2023-08-21T14:12:27.739590700Z"
    }
   },
   "id": "9ffb5137f3d4450f"
  },
  {
   "cell_type": "code",
   "execution_count": 16,
   "outputs": [
    {
     "name": "stderr",
     "output_type": "stream",
     "text": [
      "C:\\Users\\chath\\AppData\\Local\\Temp\\ipykernel_72\\50537125.py:1: SettingWithCopyWarning: \n",
      "A value is trying to be set on a copy of a slice from a DataFrame\n",
      "\n",
      "See the caveats in the documentation: https://pandas.pydata.org/pandas-docs/stable/user_guide/indexing.html#returning-a-view-versus-a-copy\n",
      "  busses_new.dropna(inplace=True)\n"
     ]
    }
   ],
   "source": [
    "busses_new.dropna(inplace=True)"
   ],
   "metadata": {
    "collapsed": false,
    "ExecuteTime": {
     "end_time": "2023-08-21T14:12:28.029847200Z",
     "start_time": "2023-08-21T14:12:27.799770900Z"
    }
   },
   "id": "90e50db4b12ebf4b"
  },
  {
   "cell_type": "code",
   "execution_count": 17,
   "outputs": [],
   "source": [
    "busses_new = busses_new[busses_new['segment'] <= segments]"
   ],
   "metadata": {
    "collapsed": false,
    "ExecuteTime": {
     "end_time": "2023-08-21T14:12:28.076211Z",
     "start_time": "2023-08-21T14:12:27.961938900Z"
    }
   },
   "id": "2c79318314ff2cab"
  },
  {
   "cell_type": "code",
   "execution_count": 18,
   "outputs": [
    {
     "data": {
      "text/plain": "103843"
     },
     "execution_count": 18,
     "metadata": {},
     "output_type": "execute_result"
    }
   ],
   "source": [
    "len(busses_new)"
   ],
   "metadata": {
    "collapsed": false,
    "ExecuteTime": {
     "end_time": "2023-08-21T14:12:28.194297700Z",
     "start_time": "2023-08-21T14:12:28.009875500Z"
    }
   },
   "id": "16472116af799e91"
  },
  {
   "cell_type": "code",
   "execution_count": 19,
   "outputs": [
    {
     "name": "stdout",
     "output_type": "stream",
     "text": [
      "Number of rows with NaN values: 0\n"
     ]
    }
   ],
   "source": [
    "num_rows_with_nan = busses_new.isna().any(axis=1).sum()\n",
    "print(f'Number of rows with NaN values: {num_rows_with_nan}')"
   ],
   "metadata": {
    "collapsed": false,
    "ExecuteTime": {
     "end_time": "2023-08-21T14:12:28.270195700Z",
     "start_time": "2023-08-21T14:12:28.037837700Z"
    }
   },
   "id": "a5f4149d9af3e1c9"
  },
  {
   "cell_type": "code",
   "execution_count": 20,
   "outputs": [],
   "source": [
    "# Convert the 'date' column to a datetime object\n",
    "busses_new['date'] = pd.to_datetime(busses_new['date'])\n",
    "\n",
    "# Create a boolean mask to filter rows with dates on or after 10/1/2022\n",
    "mask = busses_new['date'] >= '2022-10-01'\n",
    "\n",
    "# Create the train and test dataframes\n",
    "busses_train = busses_new[~mask]\n",
    "busses_test = busses_new[mask]"
   ],
   "metadata": {
    "collapsed": false,
    "ExecuteTime": {
     "end_time": "2023-08-21T14:13:47.203060300Z",
     "start_time": "2023-08-21T14:13:47.129067700Z"
    }
   },
   "id": "d0725e83c2a9fee3"
  },
  {
   "cell_type": "code",
   "execution_count": null,
   "outputs": [],
   "source": [],
   "metadata": {
    "collapsed": false
   },
   "id": "61dfeb5bf4cd8586"
  }
 ],
 "metadata": {
  "kernelspec": {
   "display_name": "Python 3",
   "language": "python",
   "name": "python3"
  },
  "language_info": {
   "codemirror_mode": {
    "name": "ipython",
    "version": 2
   },
   "file_extension": ".py",
   "mimetype": "text/x-python",
   "name": "python",
   "nbconvert_exporter": "python",
   "pygments_lexer": "ipython2",
   "version": "2.7.6"
  }
 },
 "nbformat": 4,
 "nbformat_minor": 5
}
